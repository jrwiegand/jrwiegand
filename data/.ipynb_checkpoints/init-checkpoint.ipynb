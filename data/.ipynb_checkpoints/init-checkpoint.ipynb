{
 "cells": [
  {
   "cell_type": "markdown",
   "id": "75407f79-f0e2-494e-8032-386e68e50299",
   "metadata": {},
   "source": [
    "# Imports"
   ]
  },
  {
   "cell_type": "code",
   "execution_count": 14,
   "id": "42e4a934-b8c4-4322-9f4c-28448d29988b",
   "metadata": {},
   "outputs": [],
   "source": [
    "import numpy as np\n",
    "import pandas_datareader.data as web\n",
    "import yfinance as yf\n",
    "import pandas as pd\n",
    "import datetime as dt\n",
    "import matplotlib.pyplot as plt\n",
    "import matplotlib.dates as mdates\n",
    "%matplotlib inline\n",
    "import mplfinance as mpf"
   ]
  },
  {
   "cell_type": "markdown",
   "id": "34dd9e13-67e2-469c-8cae-035ec892ed9f",
   "metadata": {},
   "source": [
    "# Function that Saves Stock Data to CSV"
   ]
  },
  {
   "cell_type": "code",
   "execution_count": 30,
   "id": "22d3b912-279b-49c4-8e72-46bdf1618f38",
   "metadata": {},
   "outputs": [],
   "source": [
    "def save_to_csv_from_yahoo(ticker, syear, smonth, sday, eyear, emonth, eday):\n",
    "    \n",
    "    start = dt.datetime(syear, smonth, sday)\n",
    "    end = dt.datetime(eyear, emonth, eday)\n",
    "\n",
    "    yf.pdr_override()\n",
    "\n",
    "    df = web.DataReader(ticker, start, end)\n",
    "\n",
    "    df.to_csv(\"./files/\" + ticker + \".csv\")\n",
    "    \n",
    "    return df"
   ]
  },
  {
   "cell_type": "markdown",
   "id": "35670b2a-6bfb-471d-a2d0-09bb36f66c6e",
   "metadata": {},
   "source": [
    "# Function that Returns a Dataframe from a CSV"
   ]
  },
  {
   "cell_type": "code",
   "execution_count": 31,
   "id": "9ead3736-d65e-4d42-84c8-46a6192ad7e5",
   "metadata": {},
   "outputs": [],
   "source": [
    "def get_df_from_csv(ticker):\n",
    "    try:\n",
    "        df = pd.read_csv(\"./files/\" + ticker + \".csv\")\n",
    "    except FileNotFoundError:\n",
    "        print(\"File does not exist!\")\n",
    "    else:\n",
    "        return df"
   ]
  },
  {
   "cell_type": "markdown",
   "id": "7f1ffbb6-061a-4e49-af9e-70ef66147799",
   "metadata": {},
   "source": [
    "# Add Daily Return to Dataframe"
   ]
  },
  {
   "cell_type": "code",
   "execution_count": 33,
   "id": "cc942874-6237-416c-a1e1-a570f876fbf9",
   "metadata": {},
   "outputs": [],
   "source": [
    "# We calculate a percentage rate of return for each day to compare investments.\n",
    "# Simple Rate of Return = (End Price - Beginning Price) / Beginning Price Or (EP / BP) - 1\n",
    "def add_daily_return_to_df(df, ticker):\n",
    "    df['daily_return'] = (df['Adj Close'] / df['Adj Close'].shift(1)) - 1\n",
    "    df.to_csv(\"./files/\" + ticker + \".csv\")\n",
    "    return df"
   ]
  },
  {
   "cell_type": "markdown",
   "id": "422250b8-84ae-4813-9a3f-6e11908d416b",
   "metadata": {},
   "source": [
    "# Returns Total Return over Time"
   ]
  },
  {
   "cell_type": "code",
   "execution_count": null,
   "id": "18f1ad01-409e-46f8-827b-c3d7babf0314",
   "metadata": {},
   "outputs": [],
   "source": []
  },
  {
   "cell_type": "markdown",
   "id": "9fe75bb6-fa38-4cab-a15d-bf0865b2eaed",
   "metadata": {},
   "source": [
    "# Matplotlib Finance"
   ]
  },
  {
   "cell_type": "code",
   "execution_count": null,
   "id": "d01ce110-024f-409a-a181-3b6d2eae8dde",
   "metadata": {},
   "outputs": [],
   "source": []
  },
  {
   "cell_type": "markdown",
   "id": "eec08236-260a-4dee-9375-9aa11c2925a3",
   "metadata": {},
   "source": [
    "# Simpole Price Plot"
   ]
  },
  {
   "cell_type": "code",
   "execution_count": null,
   "id": "31eb4ed6-445d-466a-a32d-0a5c915ca318",
   "metadata": {},
   "outputs": [],
   "source": []
  },
  {
   "cell_type": "markdown",
   "id": "7b4819c2-2aa0-4f68-b87e-00afd648c470",
   "metadata": {},
   "source": [
    "# Test Functions"
   ]
  },
  {
   "cell_type": "code",
   "execution_count": 34,
   "id": "66bf6644-f83a-4bbb-85f2-2866c7c1c580",
   "metadata": {},
   "outputs": [
    {
     "name": "stderr",
     "output_type": "stream",
     "text": [
      "[*********************100%%**********************]  1 of 1 completed\n"
     ]
    },
    {
     "data": {
      "text/html": [
       "<div>\n",
       "<style scoped>\n",
       "    .dataframe tbody tr th:only-of-type {\n",
       "        vertical-align: middle;\n",
       "    }\n",
       "\n",
       "    .dataframe tbody tr th {\n",
       "        vertical-align: top;\n",
       "    }\n",
       "\n",
       "    .dataframe thead th {\n",
       "        text-align: right;\n",
       "    }\n",
       "</style>\n",
       "<table border=\"1\" class=\"dataframe\">\n",
       "  <thead>\n",
       "    <tr style=\"text-align: right;\">\n",
       "      <th></th>\n",
       "      <th>Date</th>\n",
       "      <th>Open</th>\n",
       "      <th>High</th>\n",
       "      <th>Low</th>\n",
       "      <th>Close</th>\n",
       "      <th>Adj Close</th>\n",
       "      <th>Volume</th>\n",
       "      <th>daily_return</th>\n",
       "    </tr>\n",
       "  </thead>\n",
       "  <tbody>\n",
       "    <tr>\n",
       "      <th>0</th>\n",
       "      <td>2020-01-02</td>\n",
       "      <td>93.750000</td>\n",
       "      <td>94.900497</td>\n",
       "      <td>93.207497</td>\n",
       "      <td>94.900497</td>\n",
       "      <td>94.900497</td>\n",
       "      <td>80580000</td>\n",
       "      <td>NaN</td>\n",
       "    </tr>\n",
       "    <tr>\n",
       "      <th>1</th>\n",
       "      <td>2020-01-03</td>\n",
       "      <td>93.224998</td>\n",
       "      <td>94.309998</td>\n",
       "      <td>93.224998</td>\n",
       "      <td>93.748497</td>\n",
       "      <td>93.748497</td>\n",
       "      <td>75288000</td>\n",
       "      <td>-0.012139</td>\n",
       "    </tr>\n",
       "    <tr>\n",
       "      <th>2</th>\n",
       "      <td>2020-01-06</td>\n",
       "      <td>93.000000</td>\n",
       "      <td>95.184502</td>\n",
       "      <td>93.000000</td>\n",
       "      <td>95.143997</td>\n",
       "      <td>95.143997</td>\n",
       "      <td>81236000</td>\n",
       "      <td>0.014886</td>\n",
       "    </tr>\n",
       "    <tr>\n",
       "      <th>3</th>\n",
       "      <td>2020-01-07</td>\n",
       "      <td>95.224998</td>\n",
       "      <td>95.694504</td>\n",
       "      <td>94.601997</td>\n",
       "      <td>95.343002</td>\n",
       "      <td>95.343002</td>\n",
       "      <td>80898000</td>\n",
       "      <td>0.002092</td>\n",
       "    </tr>\n",
       "    <tr>\n",
       "      <th>4</th>\n",
       "      <td>2020-01-08</td>\n",
       "      <td>94.902000</td>\n",
       "      <td>95.550003</td>\n",
       "      <td>94.321999</td>\n",
       "      <td>94.598503</td>\n",
       "      <td>94.598503</td>\n",
       "      <td>70160000</td>\n",
       "      <td>-0.007809</td>\n",
       "    </tr>\n",
       "    <tr>\n",
       "      <th>...</th>\n",
       "      <td>...</td>\n",
       "      <td>...</td>\n",
       "      <td>...</td>\n",
       "      <td>...</td>\n",
       "      <td>...</td>\n",
       "      <td>...</td>\n",
       "      <td>...</td>\n",
       "      <td>...</td>\n",
       "    </tr>\n",
       "    <tr>\n",
       "      <th>248</th>\n",
       "      <td>2020-12-24</td>\n",
       "      <td>159.695007</td>\n",
       "      <td>160.100006</td>\n",
       "      <td>158.449997</td>\n",
       "      <td>158.634506</td>\n",
       "      <td>158.634506</td>\n",
       "      <td>29038000</td>\n",
       "      <td>-0.003949</td>\n",
       "    </tr>\n",
       "    <tr>\n",
       "      <th>249</th>\n",
       "      <td>2020-12-28</td>\n",
       "      <td>159.699997</td>\n",
       "      <td>165.199997</td>\n",
       "      <td>158.634506</td>\n",
       "      <td>164.197998</td>\n",
       "      <td>164.197998</td>\n",
       "      <td>113736000</td>\n",
       "      <td>0.035071</td>\n",
       "    </tr>\n",
       "    <tr>\n",
       "      <th>250</th>\n",
       "      <td>2020-12-29</td>\n",
       "      <td>165.496994</td>\n",
       "      <td>167.532501</td>\n",
       "      <td>164.061005</td>\n",
       "      <td>166.100006</td>\n",
       "      <td>166.100006</td>\n",
       "      <td>97458000</td>\n",
       "      <td>0.011584</td>\n",
       "    </tr>\n",
       "    <tr>\n",
       "      <th>251</th>\n",
       "      <td>2020-12-30</td>\n",
       "      <td>167.050003</td>\n",
       "      <td>167.104996</td>\n",
       "      <td>164.123505</td>\n",
       "      <td>164.292496</td>\n",
       "      <td>164.292496</td>\n",
       "      <td>64186000</td>\n",
       "      <td>-0.010882</td>\n",
       "    </tr>\n",
       "    <tr>\n",
       "      <th>252</th>\n",
       "      <td>2020-12-31</td>\n",
       "      <td>163.750000</td>\n",
       "      <td>164.145996</td>\n",
       "      <td>162.059998</td>\n",
       "      <td>162.846497</td>\n",
       "      <td>162.846497</td>\n",
       "      <td>59144000</td>\n",
       "      <td>-0.008801</td>\n",
       "    </tr>\n",
       "  </tbody>\n",
       "</table>\n",
       "<p>253 rows × 8 columns</p>\n",
       "</div>"
      ],
      "text/plain": [
       "           Date        Open        High         Low       Close   Adj Close  \\\n",
       "0    2020-01-02   93.750000   94.900497   93.207497   94.900497   94.900497   \n",
       "1    2020-01-03   93.224998   94.309998   93.224998   93.748497   93.748497   \n",
       "2    2020-01-06   93.000000   95.184502   93.000000   95.143997   95.143997   \n",
       "3    2020-01-07   95.224998   95.694504   94.601997   95.343002   95.343002   \n",
       "4    2020-01-08   94.902000   95.550003   94.321999   94.598503   94.598503   \n",
       "..          ...         ...         ...         ...         ...         ...   \n",
       "248  2020-12-24  159.695007  160.100006  158.449997  158.634506  158.634506   \n",
       "249  2020-12-28  159.699997  165.199997  158.634506  164.197998  164.197998   \n",
       "250  2020-12-29  165.496994  167.532501  164.061005  166.100006  166.100006   \n",
       "251  2020-12-30  167.050003  167.104996  164.123505  164.292496  164.292496   \n",
       "252  2020-12-31  163.750000  164.145996  162.059998  162.846497  162.846497   \n",
       "\n",
       "        Volume  daily_return  \n",
       "0     80580000           NaN  \n",
       "1     75288000     -0.012139  \n",
       "2     81236000      0.014886  \n",
       "3     80898000      0.002092  \n",
       "4     70160000     -0.007809  \n",
       "..         ...           ...  \n",
       "248   29038000     -0.003949  \n",
       "249  113736000      0.035071  \n",
       "250   97458000      0.011584  \n",
       "251   64186000     -0.010882  \n",
       "252   59144000     -0.008801  \n",
       "\n",
       "[253 rows x 8 columns]"
      ]
     },
     "execution_count": 34,
     "metadata": {},
     "output_type": "execute_result"
    }
   ],
   "source": [
    "save_to_csv_from_yahoo(\"AMZN\", 2020, 1, 1, 2021, 1, 1)\n",
    "\n",
    "AMZN = get_df_from_csv(\"AMZN\")\n",
    "\n",
    "add_daily_return_to_df(AMZN, \"AMZN\")\n",
    "\n",
    "AMZN "
   ]
  }
 ],
 "metadata": {
  "kernelspec": {
   "display_name": "Python 3 (ipykernel)",
   "language": "python",
   "name": "python3"
  },
  "language_info": {
   "codemirror_mode": {
    "name": "ipython",
    "version": 3
   },
   "file_extension": ".py",
   "mimetype": "text/x-python",
   "name": "python",
   "nbconvert_exporter": "python",
   "pygments_lexer": "ipython3",
   "version": "3.11.7"
  }
 },
 "nbformat": 4,
 "nbformat_minor": 5
}
