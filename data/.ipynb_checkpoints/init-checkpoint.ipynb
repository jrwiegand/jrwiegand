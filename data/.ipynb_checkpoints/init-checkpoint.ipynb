{
 "cells": [
  {
   "cell_type": "markdown",
   "id": "75407f79-f0e2-494e-8032-386e68e50299",
   "metadata": {},
   "source": [
    "# Imports"
   ]
  },
  {
   "cell_type": "code",
   "execution_count": 14,
   "id": "42e4a934-b8c4-4322-9f4c-28448d29988b",
   "metadata": {},
   "outputs": [],
   "source": [
    "import numpy as np\n",
    "import pandas as pd\n",
    "from pandas_datareader import data as web\n",
    "import yfinance as yf\n",
    "import matplotlib.pyplot as plt\n",
    "import matplotlib.dates as mdates\n",
    "%matplotlib inline\n",
    "import datetime as dt\n",
    "import mplfinance as mpf"
   ]
  },
  {
   "cell_type": "markdown",
   "id": "34dd9e13-67e2-469c-8cae-035ec892ed9f",
   "metadata": {},
   "source": [
    "# Function that Saves Stock Data to CSV"
   ]
  },
  {
   "cell_type": "code",
   "execution_count": 18,
   "id": "22d3b912-279b-49c4-8e72-46bdf1618f38",
   "metadata": {},
   "outputs": [],
   "source": [
    "def save_to_csv_from_yahoo(ticker, sdate, edate):\n",
    "    yf.pdr_override()\n",
    "\n",
    "    df = web.DataReader(ticker, \"yahoo\", start=sdate, end=edate)\n",
    "\n",
    "    df.to_csv(\"/Users/jwiegand/Downloads/\" + ticker + \".csv\")\n",
    "    return df"
   ]
  },
  {
   "cell_type": "markdown",
   "id": "35670b2a-6bfb-471d-a2d0-09bb36f66c6e",
   "metadata": {},
   "source": [
    "# Function that Returns a Dataframe from a CSV"
   ]
  },
  {
   "cell_type": "code",
   "execution_count": null,
   "id": "9ead3736-d65e-4d42-84c8-46a6192ad7e5",
   "metadata": {},
   "outputs": [],
   "source": []
  },
  {
   "cell_type": "markdown",
   "id": "7f1ffbb6-061a-4e49-af9e-70ef66147799",
   "metadata": {},
   "source": [
    "# Add Daily Return to Dataframe"
   ]
  },
  {
   "cell_type": "code",
   "execution_count": null,
   "id": "cc942874-6237-416c-a1e1-a570f876fbf9",
   "metadata": {},
   "outputs": [],
   "source": []
  },
  {
   "cell_type": "markdown",
   "id": "422250b8-84ae-4813-9a3f-6e11908d416b",
   "metadata": {},
   "source": [
    "# Returns Total Return over Time"
   ]
  },
  {
   "cell_type": "code",
   "execution_count": null,
   "id": "18f1ad01-409e-46f8-827b-c3d7babf0314",
   "metadata": {},
   "outputs": [],
   "source": []
  },
  {
   "cell_type": "markdown",
   "id": "9fe75bb6-fa38-4cab-a15d-bf0865b2eaed",
   "metadata": {},
   "source": [
    "# Matplotlib Finance"
   ]
  },
  {
   "cell_type": "code",
   "execution_count": null,
   "id": "d01ce110-024f-409a-a181-3b6d2eae8dde",
   "metadata": {},
   "outputs": [],
   "source": []
  },
  {
   "cell_type": "markdown",
   "id": "eec08236-260a-4dee-9375-9aa11c2925a3",
   "metadata": {},
   "source": [
    "# Simpole Price Plot"
   ]
  },
  {
   "cell_type": "code",
   "execution_count": null,
   "id": "31eb4ed6-445d-466a-a32d-0a5c915ca318",
   "metadata": {},
   "outputs": [],
   "source": []
  },
  {
   "cell_type": "markdown",
   "id": "7b4819c2-2aa0-4f68-b87e-00afd648c470",
   "metadata": {},
   "source": [
    "# Test Functions"
   ]
  },
  {
   "cell_type": "code",
   "execution_count": 19,
   "id": "66bf6644-f83a-4bbb-85f2-2866c7c1c580",
   "metadata": {},
   "outputs": [
    {
     "ename": "TypeError",
     "evalue": "download() got multiple values for argument 'start'",
     "output_type": "error",
     "traceback": [
      "\u001b[0;31m---------------------------------------------------------------------------\u001b[0m",
      "\u001b[0;31mTypeError\u001b[0m                                 Traceback (most recent call last)",
      "Cell \u001b[0;32mIn[19], line 1\u001b[0m\n\u001b[0;32m----> 1\u001b[0m save_to_csv_from_yahoo(\u001b[38;5;124m\"\u001b[39m\u001b[38;5;124mAMZN\u001b[39m\u001b[38;5;124m\"\u001b[39m, \u001b[38;5;124m\"\u001b[39m\u001b[38;5;124m2020-1-1\u001b[39m\u001b[38;5;124m\"\u001b[39m, \u001b[38;5;124m\"\u001b[39m\u001b[38;5;124m2023-12-31\u001b[39m\u001b[38;5;124m\"\u001b[39m)\n",
      "Cell \u001b[0;32mIn[18], line 4\u001b[0m, in \u001b[0;36msave_to_csv_from_yahoo\u001b[0;34m(ticker, sdate, edate)\u001b[0m\n\u001b[1;32m      1\u001b[0m \u001b[38;5;28;01mdef\u001b[39;00m \u001b[38;5;21msave_to_csv_from_yahoo\u001b[39m(ticker, sdate, edate):\n\u001b[1;32m      2\u001b[0m     yf\u001b[38;5;241m.\u001b[39mpdr_override()\n\u001b[0;32m----> 4\u001b[0m     df \u001b[38;5;241m=\u001b[39m web\u001b[38;5;241m.\u001b[39mDataReader(ticker, \u001b[38;5;124m\"\u001b[39m\u001b[38;5;124myahoo\u001b[39m\u001b[38;5;124m\"\u001b[39m, start\u001b[38;5;241m=\u001b[39msdate, end\u001b[38;5;241m=\u001b[39medate)\n\u001b[1;32m      6\u001b[0m     df\u001b[38;5;241m.\u001b[39mto_csv(\u001b[38;5;124m\"\u001b[39m\u001b[38;5;124m/Users/jwiegand/Downloads/\u001b[39m\u001b[38;5;124m\"\u001b[39m \u001b[38;5;241m+\u001b[39m ticker \u001b[38;5;241m+\u001b[39m \u001b[38;5;124m\"\u001b[39m\u001b[38;5;124m.csv\u001b[39m\u001b[38;5;124m\"\u001b[39m)\n\u001b[1;32m      7\u001b[0m     \u001b[38;5;28;01mreturn\u001b[39;00m df\n",
      "File \u001b[0;32m~/Dev/anaconda3/lib/python3.11/site-packages/yfinance/utils.py:103\u001b[0m, in \u001b[0;36mlog_indent_decorator.<locals>.wrapper\u001b[0;34m(*args, **kwargs)\u001b[0m\n\u001b[1;32m    100\u001b[0m logger\u001b[38;5;241m.\u001b[39mdebug(\u001b[38;5;124mf\u001b[39m\u001b[38;5;124m'\u001b[39m\u001b[38;5;124mEntering \u001b[39m\u001b[38;5;132;01m{\u001b[39;00mfunc\u001b[38;5;241m.\u001b[39m\u001b[38;5;18m__name__\u001b[39m\u001b[38;5;132;01m}\u001b[39;00m\u001b[38;5;124m()\u001b[39m\u001b[38;5;124m'\u001b[39m)\n\u001b[1;32m    102\u001b[0m \u001b[38;5;28;01mwith\u001b[39;00m IndentationContext():\n\u001b[0;32m--> 103\u001b[0m     result \u001b[38;5;241m=\u001b[39m func(\u001b[38;5;241m*\u001b[39margs, \u001b[38;5;241m*\u001b[39m\u001b[38;5;241m*\u001b[39mkwargs)\n\u001b[1;32m    105\u001b[0m logger\u001b[38;5;241m.\u001b[39mdebug(\u001b[38;5;124mf\u001b[39m\u001b[38;5;124m'\u001b[39m\u001b[38;5;124mExiting \u001b[39m\u001b[38;5;132;01m{\u001b[39;00mfunc\u001b[38;5;241m.\u001b[39m\u001b[38;5;18m__name__\u001b[39m\u001b[38;5;132;01m}\u001b[39;00m\u001b[38;5;124m()\u001b[39m\u001b[38;5;124m'\u001b[39m)\n\u001b[1;32m    106\u001b[0m \u001b[38;5;28;01mreturn\u001b[39;00m result\n",
      "\u001b[0;31mTypeError\u001b[0m: download() got multiple values for argument 'start'"
     ]
    }
   ],
   "source": [
    "save_to_csv_from_yahoo(\"AMZN\", \"2020-1-1\", \"2023-12-31\")"
   ]
  }
 ],
 "metadata": {
  "kernelspec": {
   "display_name": "Python 3 (ipykernel)",
   "language": "python",
   "name": "python3"
  },
  "language_info": {
   "codemirror_mode": {
    "name": "ipython",
    "version": 3
   },
   "file_extension": ".py",
   "mimetype": "text/x-python",
   "name": "python",
   "nbconvert_exporter": "python",
   "pygments_lexer": "ipython3",
   "version": "3.11.5"
  }
 },
 "nbformat": 4,
 "nbformat_minor": 5
}
