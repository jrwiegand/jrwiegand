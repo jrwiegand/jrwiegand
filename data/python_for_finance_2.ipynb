{
 "cells": [
  {
   "cell_type": "code",
   "execution_count": 9,
   "id": "5ac4013c-c180-44e2-bf19-0c885865cfb2",
   "metadata": {},
   "outputs": [],
   "source": [
    "# Provides ways to work with large multidimensional arrays\n",
    "import numpy as np\n",
    "# Allows for further data manipulation and analysis\n",
    "import pandas as pd\n",
    "from pandas_datareader import data as web # Reads stock data\n",
    "import yfinance as yf\n",
    "import matplotlib.pyplot as plt # Plotting\n",
    "import matplotlib.dates as mdates # Styling dates\n",
    "%matplotlib inline\n",
    "\n",
    "import datetime as dt # For defining dates\n",
    "import mplfinance as mpf # Matplotlib finance\n",
    "\n",
    "import time\n",
    "\n",
    "# Used to get data from a directory\n",
    "import os\n",
    "from os import listdir\n",
    "from os.path import isfile, join"
   ]
  },
  {
   "cell_type": "markdown",
   "id": "5b125728-5d38-4902-9fcb-a262a0a706d1",
   "metadata": {},
   "source": [
    "# Holds Stocks Not Downloaded"
   ]
  },
  {
   "cell_type": "code",
   "execution_count": 10,
   "id": "23ffbaed-0a51-4c87-8088-21c3669d31de",
   "metadata": {},
   "outputs": [],
   "source": [
    "stocks_not_downloaded = []\n",
    "missing_stocks = []"
   ]
  },
  {
   "cell_type": "markdown",
   "id": "98521323-cea2-4f51-b369-b505704f5f8b",
   "metadata": {},
   "source": [
    "# Saves Stock Data to CSV"
   ]
  },
  {
   "cell_type": "code",
   "execution_count": 11,
   "id": "3d235d04-43ed-4e6c-9adf-660ffc66f188",
   "metadata": {},
   "outputs": [],
   "source": [
    "def save_to_csv_from_yahoo(folder, ticker, syear, smonth, sday, eyear, emonth, eday):\n",
    "    start = dt.datetime(syear, smonth, sday)\n",
    "    end = dt.datetime(eyear, emonth, eday)\n",
    "    try:\n",
    "        print(\"Get Data for :\", ticker)\n",
    "        yf.pdr_override()\n",
    "        df = web.DataReader(ticker, start, end)[\"Adj Close\"]\n",
    "        time.sleep(10)\n",
    "        df.to_csv(folder + ticker + \".csv\")\n",
    "    except Exception as ex:\n",
    "        stocks_not_downloaded.append(ticker)\n",
    "        print(\"Couldn't Get Data for :\", ticker)"
   ]
  },
  {
   "cell_type": "markdown",
   "id": "e368b551-b70f-46fb-82dc-ed5cb2715099",
   "metadata": {},
   "source": [
    "# Returns a Stock Dataframe from a CSV"
   ]
  },
  {
   "cell_type": "code",
   "execution_count": 12,
   "id": "87435310-f8bd-40ba-b6fa-757c8bb79797",
   "metadata": {},
   "outputs": [],
   "source": [
    "def get_stock_df_from_csv(folder, ticker):\n",
    "    try:\n",
    "        df = pd.read_csv(folder + ticker + \".csv\")\n",
    "    except FileNotFoundError:\n",
    "        print(\"File Doesn't Exist\")\n",
    "    else:\n",
    "        return df"
   ]
  },
  {
   "cell_type": "markdown",
   "id": "b021680f-ec2e-41a4-bb80-9ca7719178b3",
   "metadata": {},
   "source": [
    "# Returns a Named Columns Data from a CSV"
   ]
  },
  {
   "cell_type": "code",
   "execution_count": 13,
   "id": "48d9bc0c-2d3f-436e-b43a-2056badacea0",
   "metadata": {},
   "outputs": [],
   "source": [
    "def get_column_from_csv(file, col_name):\n",
    "    try:\n",
    "        df = pd.read_csv(file)\n",
    "    except FileNotFoundError:\n",
    "        print(\"File Doesn't Exist\")\n",
    "    else:\n",
    "        return df[col_name]"
   ]
  },
  {
   "cell_type": "markdown",
   "id": "395c12dd-d0ef-4a38-bdb0-cd9fbf034210",
   "metadata": {},
   "source": [
    "# Test Receiving Stock Tickers"
   ]
  },
  {
   "cell_type": "code",
   "execution_count": 14,
   "id": "53ea6ed2-95b5-48f6-ae22-8de4b35f82fc",
   "metadata": {},
   "outputs": [
    {
     "data": {
      "text/plain": [
       "0          A\n",
       "1         AA\n",
       "2        AAL\n",
       "3       AAME\n",
       "4        AAN\n",
       "        ... \n",
       "3476    ZUMZ\n",
       "3477     ZUO\n",
       "3478    ZYNE\n",
       "3479    ZYXI\n",
       "3480    ZNGA\n",
       "Name: Ticker, Length: 3481, dtype: object"
      ]
     },
     "execution_count": 14,
     "metadata": {},
     "output_type": "execute_result"
    }
   ],
   "source": [
    "tickers = get_column_from_csv(\"/Users/jwiegand/Dev/jrwiegand/data/files/Wilshire-5000-Stocks.csv\", \"Ticker\")\n",
    "tickers"
   ]
  },
  {
   "cell_type": "markdown",
   "id": "59062494-abf1-4d96-b928-995e15444446",
   "metadata": {},
   "source": [
    "# Get 6 Years of Data for the 1st 20 Stocks"
   ]
  },
  {
   "cell_type": "code",
   "execution_count": null,
   "id": "4a45f25b-4bde-46cf-a489-8538f455be57",
   "metadata": {},
   "outputs": [
    {
     "name": "stdout",
     "output_type": "stream",
     "text": [
      "Get Data for : A\n"
     ]
    },
    {
     "name": "stderr",
     "output_type": "stream",
     "text": [
      "[*********************100%%**********************]  1 of 1 completed\n"
     ]
    },
    {
     "name": "stdout",
     "output_type": "stream",
     "text": [
      "Get Data for : AA\n"
     ]
    },
    {
     "name": "stderr",
     "output_type": "stream",
     "text": [
      "[*********************100%%**********************]  1 of 1 completed\n",
      "[*********************100%%**********************]  1 of 1 completed"
     ]
    },
    {
     "name": "stdout",
     "output_type": "stream",
     "text": [
      "Get Data for : AAL\n"
     ]
    },
    {
     "name": "stderr",
     "output_type": "stream",
     "text": [
      "\n",
      "[*********************100%%**********************]  1 of 1 completed"
     ]
    },
    {
     "name": "stdout",
     "output_type": "stream",
     "text": [
      "Get Data for : AAME\n"
     ]
    },
    {
     "name": "stderr",
     "output_type": "stream",
     "text": [
      "\n",
      "[*********************100%%**********************]  1 of 1 completed"
     ]
    },
    {
     "name": "stdout",
     "output_type": "stream",
     "text": [
      "Get Data for : AAN\n"
     ]
    },
    {
     "name": "stderr",
     "output_type": "stream",
     "text": [
      "\n",
      "[*********************100%%**********************]  1 of 1 completed"
     ]
    },
    {
     "name": "stdout",
     "output_type": "stream",
     "text": [
      "Get Data for : AAOI\n"
     ]
    },
    {
     "name": "stderr",
     "output_type": "stream",
     "text": [
      "\n"
     ]
    }
   ],
   "source": [
    "folder = \"/Users/jwiegand/Dev/jrwiegand/data/files/\"\n",
    "for x in range(20):\n",
    "    save_to_csv_from_yahoo(folder, tickers[x], 2018, 1, 1, 2024, 1, 1)"
   ]
  }
 ],
 "metadata": {
  "kernelspec": {
   "display_name": "Python 3 (ipykernel)",
   "language": "python",
   "name": "python3"
  },
  "language_info": {
   "codemirror_mode": {
    "name": "ipython",
    "version": 3
   },
   "file_extension": ".py",
   "mimetype": "text/x-python",
   "name": "python",
   "nbconvert_exporter": "python",
   "pygments_lexer": "ipython3",
   "version": "3.11.7"
  }
 },
 "nbformat": 4,
 "nbformat_minor": 5
}
