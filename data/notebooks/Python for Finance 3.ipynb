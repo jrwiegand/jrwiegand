{
 "cells": [
  {
   "cell_type": "code",
   "execution_count": 2,
   "id": "5ac4013c-c180-44e2-bf19-0c885865cfb2",
   "metadata": {},
   "outputs": [],
   "source": [
    "# Provides ways to work with large multidimensional arrays\n",
    "import numpy as np\n",
    "# Allows for further data manipulation and analysis\n",
    "import polars as pd\n",
    "from pandas_datareader import data as web # Reads stock data\n",
    "import yfinance as yf\n",
    "import matplotlib.pyplot as plt # Plotting\n",
    "import matplotlib.dates as mdates # Styling dates\n",
    "%matplotlib inline\n",
    "\n",
    "import datetime as dt # For defining dates\n",
    "import mplfinance as mpf # Matplotlib finance\n",
    "\n",
    "# Used to get data from a directory\n",
    "import os\n",
    "from os import listdir\n",
    "from os.path import isfile, join"
   ]
  },
  {
   "cell_type": "markdown",
   "id": "4be96b6b",
   "metadata": {},
   "source": [
    "# Default Values"
   ]
  },
  {
   "cell_type": "code",
   "execution_count": 3,
   "id": "93a3fa76",
   "metadata": {},
   "outputs": [],
   "source": [
    "PATH = \"/Users/jwiegand/Dev/jrwiegand/data/files\"\n",
    "\n",
    "# Start date defaults\n",
    "S_YEAR = 2021\n",
    "S_MONTH = 6\n",
    "S_DAY = 1\n",
    "S_DATE_STR = f\"{S_YEAR}-{S_MONTH}-{S_DAY}\"\n",
    "S_DATE_DATETIME = dt.datetime(S_YEAR, S_MONTH, S_DAY)\n",
    "\n",
    "# Start date defaults\n",
    "E_YEAR = 2024\n",
    "E_MONTH = 6\n",
    "E_DAY = 1\n",
    "E_DATE_STR = f\"{E_YEAR}-{E_MONTH}-{E_DAY}\"\n",
    "E_DATE_DATETIME = dt.datetime(E_YEAR, E_MONTH, E_DAY)\n",
    "\n",
    "\n",
    "# Manually Download the Screener CSV from Nasdaq\n",
    "# https://www.nasdaq.com/market-activity/stocks/screener\n",
    "CSV_DATA_FILE = \"nasdaq_screener_1717356628553.csv\""
   ]
  },
  {
   "cell_type": "markdown",
   "id": "f656d543",
   "metadata": {},
   "source": [
    "# Get Stock File Names in a List"
   ]
  },
  {
   "cell_type": "code",
   "execution_count": 4,
   "id": "7681a01a",
   "metadata": {},
   "outputs": [],
   "source": [
    "files = [x for x in listdir(PATH + \"/stocks\") if isfile(join(PATH + \"/stocks\", x))]\n",
    "tickers = [os.path.splitext(x)[0] for x in files]"
   ]
  },
  {
   "cell_type": "markdown",
   "id": "752f3a23",
   "metadata": {},
   "source": [
    "# Function that Returns a Dataframe from a CSV"
   ]
  },
  {
   "cell_type": "code",
   "execution_count": 5,
   "id": "705395db",
   "metadata": {},
   "outputs": [],
   "source": [
    "def get_df_from_csv(ticker):\n",
    "    try:\n",
    "        df = pd.read_csv(PATH + \"/stocks/\" + ticker + \".csv\")\n",
    "    except FileNotFoundError:\n",
    "        print(\"File Does Not Exist\")\n",
    "    else:\n",
    "        return df"
   ]
  },
  {
   "cell_type": "markdown",
   "id": "74bbfa3d",
   "metadata": {},
   "source": [
    "# Function that Saves Dataframe to CSV"
   ]
  },
  {
   "cell_type": "code",
   "execution_count": 6,
   "id": "ef39baf2",
   "metadata": {},
   "outputs": [],
   "source": [
    "def save_dataframe_to_csv(df, ticker):\n",
    "    df.to_csv(PATH + \"/stocks/\" + ticker + \".csv\")"
   ]
  },
  {
   "cell_type": "markdown",
   "id": "734357c8",
   "metadata": {},
   "source": [
    "# Return Valid Dates in Dataframe"
   ]
  },
  {
   "cell_type": "code",
   "execution_count": 7,
   "id": "8c44c816",
   "metadata": {},
   "outputs": [],
   "source": [
    "def get_valid_dates(df, sdate, edate):\n",
    "    try:\n",
    "        mask = (df[\"Date\"] > sdate) & (df[\"Date\"] < edate)\n",
    "        sm_df = df.loc[mask]\n",
    "        sm_df = sm_df.set_index([\"Date\"])\n",
    "        sm_date = sm_df.index.min()\n",
    "        last_date = sm_df.index.max()\n",
    "\n",
    "        date_leading = \"-\".join((\"0\" if len(x) < 2 else \"\") + x for x in sm_date.split(\"-\"))\n",
    "        date_ending = \"-\".join((\"0\" if len(x) < 2 else \"\") + x for x in last_date.split(\"-\"))\n",
    "\n",
    "    except Exception:\n",
    "        print(\"Date Corrupted\")\n",
    "    else:\n",
    "        return date_leading, date_ending"
   ]
  },
  {
   "cell_type": "markdown",
   "id": "0f2e7ead",
   "metadata": {},
   "source": [
    "# Returns Return on Investment over Time"
   ]
  },
  {
   "cell_type": "code",
   "execution_count": 8,
   "id": "24f29a14",
   "metadata": {},
   "outputs": [],
   "source": [
    "def roi_between_dates(df, sdate, edate):\n",
    "    try:\n",
    "        start_val = df.loc[sdate, \"Adj Close\"]\n",
    "        end_val = df.loc[edate, \"Adj Close\"]\n",
    "        roi = ((end_val - start_val) / start_val)\n",
    "    except Exception:\n",
    "        print(\"Data Corrupted\")\n",
    "    else:\n",
    "        return roi"
   ]
  },
  {
   "cell_type": "markdown",
   "id": "cc558420",
   "metadata": {},
   "source": [
    "# Get Mean Between Dates"
   ]
  },
  {
   "cell_type": "code",
   "execution_count": 9,
   "id": "57ee4ea9",
   "metadata": {},
   "outputs": [],
   "source": [
    "def get_mean_between_dates(df, sdate, edate):\n",
    "    mask = (df[\"Date\"] > sdate) & (df[\"Date\"] <= edate)\n",
    "    return df.loc[mask][\"Adj Close\"].mean()"
   ]
  },
  {
   "cell_type": "markdown",
   "id": "3764e436",
   "metadata": {},
   "source": [
    "# Get Standard Deviation Between Dates"
   ]
  },
  {
   "cell_type": "code",
   "execution_count": 10,
   "id": "c17cb303",
   "metadata": {},
   "outputs": [],
   "source": [
    "def get_sd_between_dates(df, sdate, edate):\n",
    "    mask = (df[\"Date\"] > sdate) & (df[\"Date\"] <= edate)\n",
    "    return df.loc[mask][\"Adj Close\"].std()"
   ]
  }
 ],
 "metadata": {
  "kernelspec": {
   "display_name": "Python 3 (ipykernel)",
   "language": "python",
   "name": "python3"
  },
  "language_info": {
   "codemirror_mode": {
    "name": "ipython",
    "version": 3
   },
   "file_extension": ".py",
   "mimetype": "text/x-python",
   "name": "python",
   "nbconvert_exporter": "python",
   "pygments_lexer": "ipython3",
   "version": "3.12.3"
  }
 },
 "nbformat": 4,
 "nbformat_minor": 5
}
