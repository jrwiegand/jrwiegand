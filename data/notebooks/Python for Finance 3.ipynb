{
 "cells": [
  {
   "cell_type": "code",
   "execution_count": 189,
   "id": "5ac4013c-c180-44e2-bf19-0c885865cfb2",
   "metadata": {},
   "outputs": [],
   "source": [
    "# Provides ways to work with large multidimensional arrays\n",
    "import numpy as np\n",
    "# Allows for further data manipulation and analysis\n",
    "import pandas as pd\n",
    "from pandas_datareader import data as web # Reads stock data\n",
    "import yfinance as yf\n",
    "import matplotlib.pyplot as plt # Plotting\n",
    "import matplotlib.dates as mdates # Styling dates\n",
    "%matplotlib inline\n",
    "\n",
    "import datetime as dt # For defining dates\n",
    "import mplfinance as mpf # Matplotlib finance\n",
    "\n",
    "# Used to get data from a directory\n",
    "import os\n",
    "from os import listdir\n",
    "from os.path import isfile, join"
   ]
  },
  {
   "cell_type": "markdown",
   "id": "4be96b6b",
   "metadata": {},
   "source": [
    "# Default Values"
   ]
  },
  {
   "cell_type": "code",
   "execution_count": 190,
   "id": "93a3fa76",
   "metadata": {},
   "outputs": [],
   "source": [
    "PATH = \"/Users/jwiegand/Dev/jrwiegand/data/files\"\n",
    "\n",
    "# Start date defaults\n",
    "S_YEAR = 2021\n",
    "S_MONTH = 6\n",
    "S_DAY = 1\n",
    "S_DATE_STR = f\"{S_YEAR}-{S_MONTH}-{S_DAY}\"\n",
    "S_DATE_DATETIME = dt.datetime(S_YEAR, S_MONTH, S_DAY)\n",
    "\n",
    "# Start date defaults\n",
    "E_YEAR = 2024\n",
    "E_MONTH = 6\n",
    "E_DAY = 1\n",
    "E_DATE_STR = f\"{E_YEAR}-{E_MONTH}-{E_DAY}\"\n",
    "E_DATE_DATETIME = dt.datetime(E_YEAR, E_MONTH, E_DAY)\n",
    "\n",
    "\n",
    "# Manually Download the Screener CSV from Nasdaq\n",
    "# https://www.nasdaq.com/market-activity/stocks/screener\n",
    "CSV_DATA_FILE = \"nasdaq_screener_1717356628553.csv\""
   ]
  },
  {
   "cell_type": "markdown",
   "id": "f656d543",
   "metadata": {},
   "source": [
    "# Get Stock File Names in a List"
   ]
  },
  {
   "cell_type": "code",
   "execution_count": 191,
   "id": "7681a01a",
   "metadata": {},
   "outputs": [],
   "source": [
    "files = [x for x in listdir(PATH + \"/stocks\") if isfile(join(PATH + \"/stocks\", x))]\n",
    "tickers = [os.path.splitext(x)[0] for x in files]"
   ]
  },
  {
   "cell_type": "markdown",
   "id": "752f3a23",
   "metadata": {},
   "source": [
    "# Function that Returns a Dataframe from a CSV"
   ]
  },
  {
   "cell_type": "code",
   "execution_count": 192,
   "id": "705395db",
   "metadata": {},
   "outputs": [],
   "source": [
    "def get_df_from_csv(ticker):\n",
    "    try:\n",
    "        df = pd.read_csv(PATH + \"/stocks/\" + ticker + \".csv\")\n",
    "    except FileNotFoundError:\n",
    "        print(\"File Does Not Exist\")\n",
    "    else:\n",
    "        return df"
   ]
  },
  {
   "cell_type": "markdown",
   "id": "74bbfa3d",
   "metadata": {},
   "source": [
    "# Function that Saves Dataframe to CSV"
   ]
  },
  {
   "cell_type": "code",
   "execution_count": 193,
   "id": "ef39baf2",
   "metadata": {},
   "outputs": [],
   "source": [
    "def save_dataframe_to_csv(df, ticker):\n",
    "    df.to_csv(PATH + \"/stocks/\" + ticker + \".csv\")"
   ]
  },
  {
   "cell_type": "markdown",
   "id": "734357c8",
   "metadata": {},
   "source": [
    "# Return Valid Dates in Dataframe"
   ]
  },
  {
   "cell_type": "code",
   "execution_count": 194,
   "id": "8c44c816",
   "metadata": {},
   "outputs": [],
   "source": [
    "def get_valid_dates(df, sdate, edate):\n",
    "    try:\n",
    "        mask = (df[\"Date\"] > sdate) & (df[\"Date\"] <= edate)\n",
    "        sm_df = df.loc[mask]\n",
    "        sm_df = sm_df.set_index([\"Date\"])\n",
    "        sm_date = sm_df.index.min()\n",
    "        last_date = sm_df.index.max()\n",
    "\n",
    "        print(\"VALUES\", sm_date, last_date)\n",
    "\n",
    "        date_leading = \"-\".join((\"0\" if len(x) < 2 else \"\") + x for x in sm_date.split(\"-\"))\n",
    "        date_ending = \"-\".join((\"0\" if len(x) < 2 else \"\") + x for x in last_date.split(\"-\"))\n",
    "\n",
    "    except Exception as e:\n",
    "        print(\"Date Corrupted\" + e)\n",
    "    else:\n",
    "        return date_leading, date_ending"
   ]
  },
  {
   "cell_type": "markdown",
   "id": "0f2e7ead",
   "metadata": {},
   "source": [
    "# Returns Return on Investment over Time"
   ]
  },
  {
   "cell_type": "code",
   "execution_count": 195,
   "id": "24f29a14",
   "metadata": {},
   "outputs": [],
   "source": [
    "def roi_between_dates(df, sdate, edate):\n",
    "    try:\n",
    "        start_val = df.loc[sdate, \"Adj Close\"]\n",
    "        end_val = df.loc[edate, \"Adj Close\"]\n",
    "        roi = ((end_val - start_val) / start_val)\n",
    "    except Exception:\n",
    "        print(\"Data Corrupted\")\n",
    "    else:\n",
    "        return roi"
   ]
  },
  {
   "cell_type": "markdown",
   "id": "cc558420",
   "metadata": {},
   "source": [
    "# Get Mean Between Dates"
   ]
  },
  {
   "cell_type": "code",
   "execution_count": 196,
   "id": "57ee4ea9",
   "metadata": {},
   "outputs": [],
   "source": [
    "def get_mean_between_dates(df, sdate, edate):\n",
    "    mask = (df[\"Date\"] > sdate) & (df[\"Date\"] <= edate)\n",
    "    return df.loc[mask][\"Adj Close\"].mean()"
   ]
  },
  {
   "cell_type": "markdown",
   "id": "3764e436",
   "metadata": {},
   "source": [
    "# Get Standard Deviation Between Dates"
   ]
  },
  {
   "cell_type": "code",
   "execution_count": 197,
   "id": "c17cb303",
   "metadata": {},
   "outputs": [],
   "source": [
    "def get_sd_between_dates(df, sdate, edate):\n",
    "    mask = (df[\"Date\"] > sdate) & (df[\"Date\"] <= edate)\n",
    "    return df.loc[mask][\"Adj Close\"].std()"
   ]
  },
  {
   "cell_type": "markdown",
   "id": "bf11845a",
   "metadata": {},
   "source": [
    "# Get Coefficient of Variation Between Dates"
   ]
  },
  {
   "cell_type": "code",
   "execution_count": 198,
   "id": "f4b0d7af",
   "metadata": {},
   "outputs": [],
   "source": [
    "def get_cov_between_dates(df, sdate, edate):\n",
    "    mean = get_mean_between_dates(df, sdate, edate)\n",
    "    sd = get_sd_between_dates(df, sdate, edate)\n",
    "    return sd / mean"
   ]
  },
  {
   "cell_type": "markdown",
   "id": "788c5689",
   "metadata": {},
   "source": [
    "# Test Functions"
   ]
  },
  {
   "cell_type": "code",
   "execution_count": 199,
   "id": "706f557a",
   "metadata": {},
   "outputs": [
    {
     "name": "stdout",
     "output_type": "stream",
     "text": [
      "SMMT\n",
      "VALUES 2022-01-03 2024-05-31\n",
      "('2022-01-03', '2024-05-31')\n",
      "VALUES 2022-01-03 2024-05-31\n",
      "Adj Close Mean:  2.2986247927689356\n",
      "Adj Close SD:  1.2035238354840803\n",
      "Adj Close COV:  0.5235842923430357\n",
      "Return on Investment:  2.079787455749891\n"
     ]
    }
   ],
   "source": [
    "print(tickers[1000])\n",
    "stock_a = get_df_from_csv(tickers[1000])\n",
    "print(get_valid_dates(stock_a, S_DATE_STR, E_DATE_STR))\n",
    "sdate, edate = get_valid_dates(stock_a, S_DATE_STR, E_DATE_STR)\n",
    "print(\"Adj Close Mean: \", get_mean_between_dates(stock_a, sdate, edate))\n",
    "print(\"Adj Close SD: \", get_sd_between_dates(stock_a, sdate, edate))\n",
    "print(\"Adj Close COV: \", get_cov_between_dates(stock_a, sdate, edate))\n",
    "stock_a = stock_a.set_index(\"Date\")\n",
    "print(\"Return on Investment: \", roi_between_dates(stock_a, sdate, edate))"
   ]
  },
  {
   "cell_type": "markdown",
   "id": "2c51e0e8",
   "metadata": {},
   "source": [
    "# COV & ROI for All Stocks Over Defined Period"
   ]
  },
  {
   "cell_type": "code",
   "execution_count": 200,
   "id": "93628449",
   "metadata": {},
   "outputs": [],
   "source": [
    "def get_cov_ror(tickers, sdate, edate):\n",
    "    col_names = [\"Tickers\", \"COV\", \"ROI\"]\n",
    "    df = pd.DataFrame(columns = col_names)\n",
    "    index = 0\n",
    "    for ticker in tickers:\n",
    "        print(\"Working on: \", ticker, index)\n",
    "        s_df = get_df_from_csv(ticker)\n",
    "        sdate, edate = get_valid_dates(s_df, sdate, edate)\n",
    "        cov = get_cov_between_dates(s_df, sdate, edate)\n",
    "        s_df = s_df.set_index([\"Date\"])\n",
    "        roi = roi_between_dates(s_df, sdate, edate)\n",
    "        df.loc[len(df.index)] = [ticker, cov, roi]\n",
    "        index += 1\n",
    "    return df"
   ]
  },
  {
   "cell_type": "code",
   "execution_count": 201,
   "id": "8bbe0a48",
   "metadata": {},
   "outputs": [
    {
     "name": "stdout",
     "output_type": "stream",
     "text": [
      "Working on:  RIV 0\n",
      "VALUES 2022-01-03 2024-05-31\n",
      "Working on:  ANTE 1\n",
      "VALUES 2022-01-04 2024-05-31\n",
      "Working on:  BRZE 2\n",
      "VALUES 2022-01-05 2024-05-31\n",
      "Working on:  CSCO 3\n",
      "VALUES 2022-01-06 2024-05-31\n",
      "Working on:  PRI 4\n",
      "VALUES 2022-01-07 2024-05-31\n",
      "Working on:  TRAK 5\n",
      "VALUES 2022-01-10 2024-05-31\n",
      "Working on:  NZF 6\n",
      "VALUES 2022-01-11 2024-05-31\n",
      "Working on:  TYRA 7\n",
      "VALUES 2022-01-12 2024-05-31\n",
      "Working on:  AIRC 8\n",
      "VALUES 2022-01-13 2024-05-31\n",
      "Working on:  WTO 9\n",
      "VALUES 2022-01-14 2024-05-31\n",
      "Working on:  HLNE 10\n",
      "VALUES 2022-01-18 2024-05-31\n",
      "Working on:  HUBS 11\n",
      "VALUES 2022-01-19 2024-05-31\n",
      "Working on:  NVCT 12\n",
      "VALUES 2022-02-04 2024-05-31\n",
      "Working on:  SBGI 13\n",
      "VALUES 2022-02-07 2024-05-31\n",
      "Working on:  HTLFP 14\n",
      "VALUES 2022-02-08 2024-05-31\n",
      "Working on:  UFCS 15\n",
      "VALUES 2022-02-09 2024-05-31\n",
      "Working on:  TEAF 16\n",
      "VALUES 2022-02-10 2024-05-31\n",
      "Working on:  AIRT 17\n",
      "VALUES 2022-02-11 2024-05-31\n",
      "Working on:  SITC 18\n",
      "VALUES 2022-02-14 2024-05-31\n",
      "Working on:  TLIS 19\n",
      "VALUES 2022-02-15 2024-05-31\n",
      "Working on:  NXN 20\n",
      "VALUES 2022-02-16 2024-05-31\n",
      "Working on:  BNY 21\n",
      "VALUES 2022-02-17 2024-05-31\n",
      "Working on:  AISP 22\n",
      "VALUES 2022-02-18 2024-05-31\n",
      "Working on:  RHE 23\n",
      "VALUES 2022-02-22 2024-05-31\n",
      "Working on:  SBEV 24\n",
      "VALUES 2022-02-23 2024-05-31\n",
      "Working on:  SBFM 25\n",
      "VALUES 2022-02-24 2024-05-31\n",
      "Working on:  LILM 26\n",
      "VALUES 2022-02-25 2024-05-31\n",
      "Working on:  ISSC 27\n",
      "VALUES 2022-02-28 2024-05-31\n",
      "Working on:  KNDI 28\n",
      "VALUES 2022-03-01 2024-05-31\n",
      "Working on:  EFT 29\n",
      "VALUES 2022-03-02 2024-05-31\n",
      "Working on:  ALCY 30\n",
      "VALUES 2023-07-07 2024-05-31\n",
      "Working on:  TRNS 31\n",
      "VALUES 2023-07-10 2024-05-31\n",
      "Working on:  NTZ 32\n",
      "VALUES 2023-07-11 2024-05-31\n",
      "Working on:  LBPH 33\n",
      "VALUES 2023-07-12 2024-05-31\n",
      "Working on:  FBLG 34\n",
      "VALUES 2024-02-01 2024-05-31\n",
      "Working on:  AEIS 35\n",
      "VALUES 2024-02-02 2024-05-31\n",
      "Working on:  UAL 36\n",
      "VALUES 2024-02-05 2024-05-31\n",
      "Working on:  TROW 37\n",
      "VALUES 2024-02-06 2024-05-31\n",
      "Working on:  ISRG 38\n",
      "VALUES 2024-02-07 2024-05-31\n",
      "Working on:  AULT 39\n",
      "VALUES 2024-02-08 2024-05-31\n",
      "Working on:  EGP 40\n",
      "VALUES 2024-02-09 2024-05-31\n",
      "Working on:  GDRX 41\n",
      "VALUES 2024-02-12 2024-05-31\n",
      "Working on:  EFC 42\n",
      "VALUES 2024-02-13 2024-05-31\n",
      "Working on:  ISPO 43\n",
      "VALUES 2024-02-14 2024-05-31\n",
      "Working on:  EEX 44\n",
      "VALUES 2024-02-15 2024-05-31\n",
      "Working on:  NVR 45\n",
      "VALUES 2024-02-16 2024-05-31\n",
      "Working on:  MVST 46\n",
      "VALUES 2024-02-20 2024-05-31\n",
      "Working on:  CTKB 47\n",
      "VALUES 2024-02-21 2024-05-31\n",
      "Working on:  PLYM 48\n",
      "VALUES 2024-02-22 2024-05-31\n",
      "Working on:  TELA 49\n",
      "VALUES 2024-02-23 2024-05-31\n",
      "Working on:  FEIM 50\n",
      "VALUES 2024-02-26 2024-05-31\n",
      "Working on:  WOR 51\n",
      "VALUES 2024-02-27 2024-05-31\n",
      "Working on:  LFMDP 52\n",
      "VALUES 2024-02-28 2024-05-31\n",
      "Working on:  TLRY 53\n",
      "VALUES 2024-02-29 2024-05-31\n",
      "Working on:  PRGO 54\n",
      "VALUES 2024-03-01 2024-05-31\n",
      "Working on:  LECO 55\n",
      "VALUES 2024-03-04 2024-05-31\n",
      "Working on:  ALTG 56\n",
      "VALUES 2024-03-05 2024-05-31\n",
      "Working on:  VABK 57\n",
      "VALUES 2024-03-06 2024-05-31\n",
      "Working on:  VCYT 58\n",
      "VALUES 2024-03-07 2024-05-31\n",
      "Working on:  USAC 59\n",
      "VALUES 2024-03-08 2024-05-31\n",
      "Working on:  IMNM 60\n",
      "VALUES 2024-03-11 2024-05-31\n",
      "Working on:  COHN 61\n",
      "VALUES 2024-03-12 2024-05-31\n",
      "Working on:  PLOW 62\n",
      "VALUES 2024-03-13 2024-05-31\n",
      "Working on:  GLADZ 63\n",
      "VALUES 2024-03-14 2024-05-31\n",
      "Working on:  UTZ 64\n",
      "VALUES 2024-03-15 2024-05-31\n",
      "Working on:  IFN 65\n",
      "VALUES 2024-03-18 2024-05-31\n",
      "Working on:  PHG 66\n",
      "VALUES 2024-03-19 2024-05-31\n",
      "Working on:  ALVO 67\n",
      "VALUES 2024-03-20 2024-05-31\n",
      "Working on:  QETAU 68\n",
      "VALUES 2024-03-21 2024-05-31\n",
      "Working on:  UVE 69\n",
      "VALUES 2024-03-22 2024-05-31\n",
      "Working on:  BUD 70\n",
      "VALUES 2024-03-25 2024-05-31\n",
      "Working on:  ORRF 71\n",
      "VALUES 2024-03-26 2024-05-31\n",
      "Working on:  NAUT 72\n",
      "VALUES 2024-03-27 2024-05-31\n",
      "Working on:  NTRSO 73\n",
      "VALUES 2024-03-28 2024-05-31\n",
      "Working on:  PFL 74\n",
      "VALUES 2024-04-01 2024-05-31\n",
      "Working on:  GGR 75\n",
      "VALUES 2024-04-02 2024-05-31\n",
      "Working on:  PDS 76\n",
      "VALUES 2024-04-03 2024-05-31\n",
      "Working on:  FERG 77\n",
      "VALUES 2024-04-04 2024-05-31\n",
      "Working on:  OESX 78\n",
      "VALUES 2024-04-05 2024-05-31\n",
      "Working on:  FTAIN 79\n",
      "VALUES 2024-04-08 2024-05-31\n",
      "Working on:  BLDP 80\n",
      "VALUES 2024-04-09 2024-05-31\n",
      "Working on:  CCSI 81\n",
      "VALUES 2024-04-10 2024-05-31\n",
      "Working on:  SIBN 82\n",
      "VALUES 2024-04-11 2024-05-31\n",
      "Working on:  NOG 83\n",
      "VALUES 2024-04-12 2024-05-31\n",
      "Working on:  BWSN 84\n",
      "VALUES 2024-04-15 2024-05-31\n",
      "Working on:  GTLB 85\n",
      "VALUES 2024-04-16 2024-05-31\n",
      "Working on:  BXC 86\n",
      "VALUES 2024-04-17 2024-05-31\n",
      "Working on:  JCSE 87\n",
      "VALUES 2024-04-18 2024-05-31\n",
      "Working on:  KSM 88\n",
      "VALUES 2024-04-19 2024-05-31\n",
      "Working on:  XCUR 89\n",
      "VALUES 2024-04-22 2024-05-31\n",
      "Working on:  BROS 90\n",
      "VALUES 2024-04-23 2024-05-31\n",
      "Working on:  SWIM 91\n",
      "VALUES 2024-04-24 2024-05-31\n",
      "Working on:  PDD 92\n",
      "VALUES 2024-04-25 2024-05-31\n",
      "Working on:  ELDN 93\n",
      "VALUES 2024-04-26 2024-05-31\n",
      "Working on:  CHCO 94\n",
      "VALUES 2024-04-29 2024-05-31\n",
      "Working on:  BBIO 95\n",
      "VALUES 2024-04-30 2024-05-31\n",
      "Working on:  LBTYK 96\n",
      "VALUES 2024-05-01 2024-05-31\n",
      "Working on:  IMAB 97\n",
      "VALUES 2024-05-02 2024-05-31\n",
      "Working on:  SPOK 98\n",
      "VALUES 2024-05-03 2024-05-31\n",
      "Working on:  KRNL 99\n",
      "VALUES 2024-05-06 2024-05-31\n",
      "Working on:  SPLP 100\n",
      "VALUES 2024-05-07 2024-05-31\n",
      "Working on:  UZF 101\n",
      "VALUES 2024-05-08 2024-05-31\n",
      "Working on:  TPR 102\n",
      "VALUES 2024-05-09 2024-05-31\n",
      "Working on:  NIVF 103\n",
      "VALUES 2024-05-10 2024-05-31\n",
      "Working on:  TSI 104\n",
      "VALUES 2024-05-13 2024-05-31\n",
      "Working on:  DVN 105\n",
      "VALUES 2024-05-14 2024-05-31\n",
      "Working on:  SACC 106\n",
      "VALUES 2024-05-15 2024-05-31\n",
      "Working on:  MGEE 107\n",
      "VALUES 2024-05-16 2024-05-31\n",
      "Working on:  AMSC 108\n",
      "VALUES 2024-05-17 2024-05-31\n",
      "Working on:  SVT 109\n",
      "VALUES 2024-05-20 2024-05-31\n",
      "Working on:  AMPX 110\n",
      "VALUES 2024-05-21 2024-05-31\n",
      "Working on:  STK 111\n",
      "VALUES 2024-05-22 2024-05-31\n",
      "Working on:  SCYX 112\n",
      "VALUES 2024-05-23 2024-05-31\n",
      "Working on:  NU 113\n",
      "VALUES 2024-05-24 2024-05-31\n",
      "Working on:  LOVE 114\n",
      "VALUES 2024-05-28 2024-05-31\n",
      "Working on:  ASYS 115\n",
      "VALUES 2024-05-29 2024-05-31\n",
      "Working on:  VIR 116\n",
      "VALUES 2024-05-30 2024-05-31\n",
      "Working on:  INSE 117\n",
      "VALUES 2024-05-31 2024-05-31\n",
      "Working on:  SVC 118\n",
      "VALUES nan nan\n"
     ]
    },
    {
     "ename": "TypeError",
     "evalue": "can only concatenate str (not \"AttributeError\") to str",
     "output_type": "error",
     "traceback": [
      "\u001b[0;31m---------------------------------------------------------------------------\u001b[0m",
      "\u001b[0;31mAttributeError\u001b[0m                            Traceback (most recent call last)",
      "Cell \u001b[0;32mIn[194], line 11\u001b[0m, in \u001b[0;36mget_valid_dates\u001b[0;34m(df, sdate, edate)\u001b[0m\n\u001b[1;32m      9\u001b[0m \u001b[38;5;28mprint\u001b[39m(\u001b[38;5;124m\"\u001b[39m\u001b[38;5;124mVALUES\u001b[39m\u001b[38;5;124m\"\u001b[39m, sm_date, last_date)\n\u001b[0;32m---> 11\u001b[0m date_leading \u001b[38;5;241m=\u001b[39m \u001b[38;5;124m\"\u001b[39m\u001b[38;5;124m-\u001b[39m\u001b[38;5;124m\"\u001b[39m\u001b[38;5;241m.\u001b[39mjoin((\u001b[38;5;124m\"\u001b[39m\u001b[38;5;124m0\u001b[39m\u001b[38;5;124m\"\u001b[39m \u001b[38;5;28;01mif\u001b[39;00m \u001b[38;5;28mlen\u001b[39m(x) \u001b[38;5;241m<\u001b[39m \u001b[38;5;241m2\u001b[39m \u001b[38;5;28;01melse\u001b[39;00m \u001b[38;5;124m\"\u001b[39m\u001b[38;5;124m\"\u001b[39m) \u001b[38;5;241m+\u001b[39m x \u001b[38;5;28;01mfor\u001b[39;00m x \u001b[38;5;129;01min\u001b[39;00m \u001b[43msm_date\u001b[49m\u001b[38;5;241;43m.\u001b[39;49m\u001b[43msplit\u001b[49m(\u001b[38;5;124m\"\u001b[39m\u001b[38;5;124m-\u001b[39m\u001b[38;5;124m\"\u001b[39m))\n\u001b[1;32m     12\u001b[0m date_ending \u001b[38;5;241m=\u001b[39m \u001b[38;5;124m\"\u001b[39m\u001b[38;5;124m-\u001b[39m\u001b[38;5;124m\"\u001b[39m\u001b[38;5;241m.\u001b[39mjoin((\u001b[38;5;124m\"\u001b[39m\u001b[38;5;124m0\u001b[39m\u001b[38;5;124m\"\u001b[39m \u001b[38;5;28;01mif\u001b[39;00m \u001b[38;5;28mlen\u001b[39m(x) \u001b[38;5;241m<\u001b[39m \u001b[38;5;241m2\u001b[39m \u001b[38;5;28;01melse\u001b[39;00m \u001b[38;5;124m\"\u001b[39m\u001b[38;5;124m\"\u001b[39m) \u001b[38;5;241m+\u001b[39m x \u001b[38;5;28;01mfor\u001b[39;00m x \u001b[38;5;129;01min\u001b[39;00m last_date\u001b[38;5;241m.\u001b[39msplit(\u001b[38;5;124m\"\u001b[39m\u001b[38;5;124m-\u001b[39m\u001b[38;5;124m\"\u001b[39m))\n",
      "\u001b[0;31mAttributeError\u001b[0m: 'float' object has no attribute 'split'",
      "\nDuring handling of the above exception, another exception occurred:\n",
      "\u001b[0;31mTypeError\u001b[0m                                 Traceback (most recent call last)",
      "Cell \u001b[0;32mIn[201], line 1\u001b[0m\n\u001b[0;32m----> 1\u001b[0m market_df \u001b[38;5;241m=\u001b[39m \u001b[43mget_cov_ror\u001b[49m\u001b[43m(\u001b[49m\u001b[43mtickers\u001b[49m\u001b[43m,\u001b[49m\u001b[43m \u001b[49m\u001b[43mS_DATE_STR\u001b[49m\u001b[43m,\u001b[49m\u001b[43m \u001b[49m\u001b[43mE_DATE_STR\u001b[49m\u001b[43m)\u001b[49m\n",
      "Cell \u001b[0;32mIn[200], line 8\u001b[0m, in \u001b[0;36mget_cov_ror\u001b[0;34m(tickers, sdate, edate)\u001b[0m\n\u001b[1;32m      6\u001b[0m \u001b[38;5;28mprint\u001b[39m(\u001b[38;5;124m\"\u001b[39m\u001b[38;5;124mWorking on: \u001b[39m\u001b[38;5;124m\"\u001b[39m, ticker, index)\n\u001b[1;32m      7\u001b[0m s_df \u001b[38;5;241m=\u001b[39m get_df_from_csv(ticker)\n\u001b[0;32m----> 8\u001b[0m sdate, edate \u001b[38;5;241m=\u001b[39m \u001b[43mget_valid_dates\u001b[49m\u001b[43m(\u001b[49m\u001b[43ms_df\u001b[49m\u001b[43m,\u001b[49m\u001b[43m \u001b[49m\u001b[43msdate\u001b[49m\u001b[43m,\u001b[49m\u001b[43m \u001b[49m\u001b[43medate\u001b[49m\u001b[43m)\u001b[49m\n\u001b[1;32m      9\u001b[0m cov \u001b[38;5;241m=\u001b[39m get_cov_between_dates(s_df, sdate, edate)\n\u001b[1;32m     10\u001b[0m s_df \u001b[38;5;241m=\u001b[39m s_df\u001b[38;5;241m.\u001b[39mset_index([\u001b[38;5;124m\"\u001b[39m\u001b[38;5;124mDate\u001b[39m\u001b[38;5;124m\"\u001b[39m])\n",
      "Cell \u001b[0;32mIn[194], line 15\u001b[0m, in \u001b[0;36mget_valid_dates\u001b[0;34m(df, sdate, edate)\u001b[0m\n\u001b[1;32m     12\u001b[0m     date_ending \u001b[38;5;241m=\u001b[39m \u001b[38;5;124m\"\u001b[39m\u001b[38;5;124m-\u001b[39m\u001b[38;5;124m\"\u001b[39m\u001b[38;5;241m.\u001b[39mjoin((\u001b[38;5;124m\"\u001b[39m\u001b[38;5;124m0\u001b[39m\u001b[38;5;124m\"\u001b[39m \u001b[38;5;28;01mif\u001b[39;00m \u001b[38;5;28mlen\u001b[39m(x) \u001b[38;5;241m<\u001b[39m \u001b[38;5;241m2\u001b[39m \u001b[38;5;28;01melse\u001b[39;00m \u001b[38;5;124m\"\u001b[39m\u001b[38;5;124m\"\u001b[39m) \u001b[38;5;241m+\u001b[39m x \u001b[38;5;28;01mfor\u001b[39;00m x \u001b[38;5;129;01min\u001b[39;00m last_date\u001b[38;5;241m.\u001b[39msplit(\u001b[38;5;124m\"\u001b[39m\u001b[38;5;124m-\u001b[39m\u001b[38;5;124m\"\u001b[39m))\n\u001b[1;32m     14\u001b[0m \u001b[38;5;28;01mexcept\u001b[39;00m \u001b[38;5;167;01mException\u001b[39;00m \u001b[38;5;28;01mas\u001b[39;00m e:\n\u001b[0;32m---> 15\u001b[0m     \u001b[38;5;28mprint\u001b[39m(\u001b[38;5;124;43m\"\u001b[39;49m\u001b[38;5;124;43mDate Corrupted\u001b[39;49m\u001b[38;5;124;43m\"\u001b[39;49m\u001b[43m \u001b[49m\u001b[38;5;241;43m+\u001b[39;49m\u001b[43m \u001b[49m\u001b[43me\u001b[49m)\n\u001b[1;32m     16\u001b[0m \u001b[38;5;28;01melse\u001b[39;00m:\n\u001b[1;32m     17\u001b[0m     \u001b[38;5;28;01mreturn\u001b[39;00m date_leading, date_ending\n",
      "\u001b[0;31mTypeError\u001b[0m: can only concatenate str (not \"AttributeError\") to str"
     ]
    }
   ],
   "source": [
    "market_df = get_cov_ror(tickers, S_DATE_STR, E_DATE_STR)"
   ]
  },
  {
   "cell_type": "code",
   "execution_count": null,
   "id": "16b8b6ea",
   "metadata": {},
   "outputs": [],
   "source": []
  },
  {
   "cell_type": "code",
   "execution_count": null,
   "id": "fa7c3902",
   "metadata": {},
   "outputs": [],
   "source": []
  }
 ],
 "metadata": {
  "kernelspec": {
   "display_name": "Python 3 (ipykernel)",
   "language": "python",
   "name": "python3"
  },
  "language_info": {
   "codemirror_mode": {
    "name": "ipython",
    "version": 3
   },
   "file_extension": ".py",
   "mimetype": "text/x-python",
   "name": "python",
   "nbconvert_exporter": "python",
   "pygments_lexer": "ipython3",
   "version": "3.12.3"
  }
 },
 "nbformat": 4,
 "nbformat_minor": 5
}
