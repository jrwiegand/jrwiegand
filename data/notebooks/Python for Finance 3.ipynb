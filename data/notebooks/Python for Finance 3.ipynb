{
 "cells": [
  {
   "cell_type": "code",
   "execution_count": 57,
   "id": "5ac4013c-c180-44e2-bf19-0c885865cfb2",
   "metadata": {},
   "outputs": [],
   "source": [
    "# Provides ways to work with large multidimensional arrays\n",
    "import numpy as np\n",
    "# Allows for further data manipulation and analysis\n",
    "import pandas as pd\n",
    "from pandas_datareader import data as web # Reads stock data\n",
    "import yfinance as yf\n",
    "import matplotlib.pyplot as plt # Plotting\n",
    "import matplotlib.dates as mdates # Styling dates\n",
    "%matplotlib inline\n",
    "\n",
    "import datetime as dt # For defining dates\n",
    "import mplfinance as mpf # Matplotlib finance\n",
    "\n",
    "# Used to get data from a directory\n",
    "import os\n",
    "from os import listdir\n",
    "from os.path import isfile, join"
   ]
  },
  {
   "cell_type": "markdown",
   "id": "4be96b6b",
   "metadata": {},
   "source": [
    "# Default Values"
   ]
  },
  {
   "cell_type": "code",
   "execution_count": 58,
   "id": "93a3fa76",
   "metadata": {},
   "outputs": [],
   "source": [
    "PATH = \"/Users/jwiegand/Dev/jrwiegand/data/files\"\n",
    "\n",
    "# Start date defaults\n",
    "S_YEAR = 2021\n",
    "S_MONTH = 6\n",
    "S_DAY = 1\n",
    "S_DATE_STR = f\"{S_YEAR}-{S_MONTH}-{S_DAY}\"\n",
    "S_DATE_DATETIME = dt.datetime(S_YEAR, S_MONTH, S_DAY)\n",
    "\n",
    "# Start date defaults\n",
    "E_YEAR = 2024\n",
    "E_MONTH = 6\n",
    "E_DAY = 1\n",
    "E_DATE_STR = f\"{E_YEAR}-{E_MONTH}-{E_DAY}\"\n",
    "E_DATE_DATETIME = dt.datetime(E_YEAR, E_MONTH, E_DAY)\n",
    "\n",
    "\n",
    "# Manually Download the Screener CSV from Nasdaq\n",
    "# https://www.nasdaq.com/market-activity/stocks/screener\n",
    "CSV_DATA_FILE = \"nasdaq_screener_1717356628553.csv\""
   ]
  },
  {
   "cell_type": "markdown",
   "id": "f656d543",
   "metadata": {},
   "source": [
    "# Get Stock File Names in a List"
   ]
  },
  {
   "cell_type": "code",
   "execution_count": 59,
   "id": "7681a01a",
   "metadata": {},
   "outputs": [],
   "source": [
    "files = [x for x in listdir(PATH + \"/stocks\") if isfile(join(PATH + \"/stocks\", x))]\n",
    "tickers = [os.path.splitext(x)[0] for x in files]"
   ]
  },
  {
   "cell_type": "markdown",
   "id": "752f3a23",
   "metadata": {},
   "source": [
    "# Function that Returns a Dataframe from a CSV"
   ]
  },
  {
   "cell_type": "code",
   "execution_count": 60,
   "id": "705395db",
   "metadata": {},
   "outputs": [],
   "source": [
    "def get_df_from_csv(ticker):\n",
    "    try:\n",
    "        df = pd.read_csv(PATH + \"/stocks/\" + ticker + \".csv\")\n",
    "    except FileNotFoundError:\n",
    "        print(\"File Does Not Exist\")\n",
    "    else:\n",
    "        return df"
   ]
  },
  {
   "cell_type": "markdown",
   "id": "74bbfa3d",
   "metadata": {},
   "source": [
    "# Function that Saves Dataframe to CSV"
   ]
  },
  {
   "cell_type": "code",
   "execution_count": 61,
   "id": "ef39baf2",
   "metadata": {},
   "outputs": [],
   "source": [
    "def save_dataframe_to_csv(df, ticker):\n",
    "    df.to_csv(PATH + \"/stocks/\" + ticker + \".csv\")"
   ]
  },
  {
   "cell_type": "markdown",
   "id": "734357c8",
   "metadata": {},
   "source": [
    "# Return Valid Dates in Dataframe"
   ]
  },
  {
   "cell_type": "code",
   "execution_count": 62,
   "id": "8c44c816",
   "metadata": {},
   "outputs": [],
   "source": [
    "def get_valid_dates(df, sdate, edate):\n",
    "    try:\n",
    "        mask = (df[\"Date\"] > sdate) & (df[\"Date\"] <= edate)\n",
    "        sm_df = df.loc[mask]\n",
    "        sm_df = sm_df.set_index([\"Date\"])\n",
    "        sm_date = sm_df.index.min()\n",
    "        last_date = sm_df.index.max()\n",
    "\n",
    "        date_leading = \"-\".join((\"0\" if len(x) < 2 else \"\") + x for x in sm_date.split(\"-\"))\n",
    "        date_ending = \"-\".join((\"0\" if len(x) < 2 else \"\") + x for x in last_date.split(\"-\"))\n",
    "\n",
    "    except Exception as e:\n",
    "        print(\"Date Corrupted\" + e)\n",
    "    else:\n",
    "        return date_leading, date_ending"
   ]
  },
  {
   "cell_type": "markdown",
   "id": "0f2e7ead",
   "metadata": {},
   "source": [
    "# Returns Return on Investment over Time"
   ]
  },
  {
   "cell_type": "code",
   "execution_count": 63,
   "id": "24f29a14",
   "metadata": {},
   "outputs": [],
   "source": [
    "def roi_between_dates(df, sdate, edate):\n",
    "    try:\n",
    "        start_val = df.loc[sdate, \"Adj Close\"]\n",
    "        end_val = df.loc[edate, \"Adj Close\"]\n",
    "        roi = ((end_val - start_val) / start_val)\n",
    "    except Exception:\n",
    "        print(\"Data Corrupted\")\n",
    "    else:\n",
    "        return roi"
   ]
  },
  {
   "cell_type": "markdown",
   "id": "cc558420",
   "metadata": {},
   "source": [
    "# Get Mean Between Dates"
   ]
  },
  {
   "cell_type": "code",
   "execution_count": 64,
   "id": "57ee4ea9",
   "metadata": {},
   "outputs": [],
   "source": [
    "def get_mean_between_dates(df, sdate, edate):\n",
    "    mask = (df[\"Date\"] > sdate) & (df[\"Date\"] <= edate)\n",
    "    return df.loc[mask][\"Adj Close\"].mean()"
   ]
  },
  {
   "cell_type": "markdown",
   "id": "3764e436",
   "metadata": {},
   "source": [
    "# Get Standard Deviation Between Dates"
   ]
  },
  {
   "cell_type": "code",
   "execution_count": 65,
   "id": "c17cb303",
   "metadata": {},
   "outputs": [],
   "source": [
    "def get_sd_between_dates(df, sdate, edate):\n",
    "    mask = (df[\"Date\"] > sdate) & (df[\"Date\"] <= edate)\n",
    "    return df.loc[mask][\"Adj Close\"].std()"
   ]
  },
  {
   "cell_type": "markdown",
   "id": "bf11845a",
   "metadata": {},
   "source": [
    "# Get Coefficient of Variation Between Dates"
   ]
  },
  {
   "cell_type": "code",
   "execution_count": 66,
   "id": "f4b0d7af",
   "metadata": {},
   "outputs": [],
   "source": [
    "def get_cov_between_dates(df, sdate, edate):\n",
    "    mean = get_mean_between_dates(df, sdate, edate)\n",
    "    sd = get_sd_between_dates(df, sdate, edate)\n",
    "    return sd / mean"
   ]
  },
  {
   "cell_type": "markdown",
   "id": "788c5689",
   "metadata": {},
   "source": [
    "# Test Functions"
   ]
  },
  {
   "cell_type": "code",
   "execution_count": 67,
   "id": "706f557a",
   "metadata": {},
   "outputs": [
    {
     "name": "stdout",
     "output_type": "stream",
     "text": [
      "PGR\n",
      "('2022-01-03', '2024-05-31')\n",
      "Adj Close Mean:  140.2723646936338\n",
      "Adj Close SD:  29.601901390659616\n",
      "Adj Close COV:  0.2110315988135836\n",
      "Return on Investment:  1.0724063086097624\n"
     ]
    }
   ],
   "source": [
    "print(tickers[7000])\n",
    "stock_a = get_df_from_csv(tickers[7000])\n",
    "print(get_valid_dates(stock_a, S_DATE_STR, E_DATE_STR))\n",
    "sdate, edate = get_valid_dates(stock_a, S_DATE_STR, E_DATE_STR)\n",
    "print(\"Adj Close Mean: \", get_mean_between_dates(stock_a, sdate, edate))\n",
    "print(\"Adj Close SD: \", get_sd_between_dates(stock_a, sdate, edate))\n",
    "print(\"Adj Close COV: \", get_cov_between_dates(stock_a, sdate, edate))\n",
    "stock_a = stock_a.set_index(\"Date\")\n",
    "print(\"Return on Investment: \", roi_between_dates(stock_a, sdate, edate))"
   ]
  },
  {
   "cell_type": "markdown",
   "id": "2c51e0e8",
   "metadata": {},
   "source": [
    "# COV & ROI for All Stocks Over Defined Period"
   ]
  },
  {
   "cell_type": "code",
   "execution_count": 68,
   "id": "93628449",
   "metadata": {},
   "outputs": [],
   "source": [
    "def get_cov_ror(tickers, sdate, edate):\n",
    "    col_names = [\"Tickers\", \"COV\", \"ROI\"]\n",
    "    df = pd.DataFrame(columns = col_names)\n",
    "    for ticker in tickers:\n",
    "        print(\"Working on: \", ticker)\n",
    "        s_df = get_df_from_csv(ticker)\n",
    "        sdate, edate = get_valid_dates(s_df, sdate, edate)\n",
    "        cov = get_cov_between_dates(s_df, sdate, edate)\n",
    "        s_df = s_df.set_index([\"Date\"])\n",
    "        roi = roi_between_dates(s_df, sdate, edate)\n",
    "        df.loc[len(df.index)] = [ticker, cov, roi]\n",
    "    return df"
   ]
  },
  {
   "cell_type": "code",
   "execution_count": 70,
   "id": "8bbe0a48",
   "metadata": {},
   "outputs": [
    {
     "name": "stdout",
     "output_type": "stream",
     "text": [
      "Working on:  RIV\n",
      "Working on:  ANTE\n",
      "Working on:  BRZE\n",
      "Working on:  CSCO\n",
      "Working on:  PRI\n",
      "Working on:  TRAK\n",
      "Working on:  NZF\n",
      "Working on:  TYRA\n",
      "Working on:  AIRC\n",
      "Working on:  WTO\n",
      "Working on:  HLNE\n",
      "Working on:  HUBS\n",
      "Working on:  NVCT\n",
      "Working on:  COF^N\n"
     ]
    },
    {
     "ename": "TypeError",
     "evalue": "can only concatenate str (not \"AttributeError\") to str",
     "output_type": "error",
     "traceback": [
      "\u001b[0;31m---------------------------------------------------------------------------\u001b[0m",
      "\u001b[0;31mAttributeError\u001b[0m                            Traceback (most recent call last)",
      "Cell \u001b[0;32mIn[62], line 9\u001b[0m, in \u001b[0;36mget_valid_dates\u001b[0;34m(df, sdate, edate)\u001b[0m\n\u001b[1;32m      7\u001b[0m last_date \u001b[38;5;241m=\u001b[39m sm_df\u001b[38;5;241m.\u001b[39mindex\u001b[38;5;241m.\u001b[39mmax()\n\u001b[0;32m----> 9\u001b[0m date_leading \u001b[38;5;241m=\u001b[39m \u001b[38;5;124m\"\u001b[39m\u001b[38;5;124m-\u001b[39m\u001b[38;5;124m\"\u001b[39m\u001b[38;5;241m.\u001b[39mjoin((\u001b[38;5;124m\"\u001b[39m\u001b[38;5;124m0\u001b[39m\u001b[38;5;124m\"\u001b[39m \u001b[38;5;28;01mif\u001b[39;00m \u001b[38;5;28mlen\u001b[39m(x) \u001b[38;5;241m<\u001b[39m \u001b[38;5;241m2\u001b[39m \u001b[38;5;28;01melse\u001b[39;00m \u001b[38;5;124m\"\u001b[39m\u001b[38;5;124m\"\u001b[39m) \u001b[38;5;241m+\u001b[39m x \u001b[38;5;28;01mfor\u001b[39;00m x \u001b[38;5;129;01min\u001b[39;00m \u001b[43msm_date\u001b[49m\u001b[38;5;241;43m.\u001b[39;49m\u001b[43msplit\u001b[49m(\u001b[38;5;124m\"\u001b[39m\u001b[38;5;124m-\u001b[39m\u001b[38;5;124m\"\u001b[39m))\n\u001b[1;32m     10\u001b[0m date_ending \u001b[38;5;241m=\u001b[39m \u001b[38;5;124m\"\u001b[39m\u001b[38;5;124m-\u001b[39m\u001b[38;5;124m\"\u001b[39m\u001b[38;5;241m.\u001b[39mjoin((\u001b[38;5;124m\"\u001b[39m\u001b[38;5;124m0\u001b[39m\u001b[38;5;124m\"\u001b[39m \u001b[38;5;28;01mif\u001b[39;00m \u001b[38;5;28mlen\u001b[39m(x) \u001b[38;5;241m<\u001b[39m \u001b[38;5;241m2\u001b[39m \u001b[38;5;28;01melse\u001b[39;00m \u001b[38;5;124m\"\u001b[39m\u001b[38;5;124m\"\u001b[39m) \u001b[38;5;241m+\u001b[39m x \u001b[38;5;28;01mfor\u001b[39;00m x \u001b[38;5;129;01min\u001b[39;00m last_date\u001b[38;5;241m.\u001b[39msplit(\u001b[38;5;124m\"\u001b[39m\u001b[38;5;124m-\u001b[39m\u001b[38;5;124m\"\u001b[39m))\n",
      "\u001b[0;31mAttributeError\u001b[0m: 'float' object has no attribute 'split'",
      "\nDuring handling of the above exception, another exception occurred:\n",
      "\u001b[0;31mTypeError\u001b[0m                                 Traceback (most recent call last)",
      "Cell \u001b[0;32mIn[70], line 1\u001b[0m\n\u001b[0;32m----> 1\u001b[0m market_df \u001b[38;5;241m=\u001b[39m \u001b[43mget_cov_ror\u001b[49m\u001b[43m(\u001b[49m\u001b[43mtickers\u001b[49m\u001b[43m,\u001b[49m\u001b[43m \u001b[49m\u001b[43mS_DATE_STR\u001b[49m\u001b[43m,\u001b[49m\u001b[43m \u001b[49m\u001b[43mE_DATE_STR\u001b[49m\u001b[43m)\u001b[49m\n",
      "Cell \u001b[0;32mIn[68], line 7\u001b[0m, in \u001b[0;36mget_cov_ror\u001b[0;34m(tickers, sdate, edate)\u001b[0m\n\u001b[1;32m      5\u001b[0m \u001b[38;5;28mprint\u001b[39m(\u001b[38;5;124m\"\u001b[39m\u001b[38;5;124mWorking on: \u001b[39m\u001b[38;5;124m\"\u001b[39m, ticker)\n\u001b[1;32m      6\u001b[0m s_df \u001b[38;5;241m=\u001b[39m get_df_from_csv(ticker)\n\u001b[0;32m----> 7\u001b[0m sdate, edate \u001b[38;5;241m=\u001b[39m \u001b[43mget_valid_dates\u001b[49m\u001b[43m(\u001b[49m\u001b[43ms_df\u001b[49m\u001b[43m,\u001b[49m\u001b[43m \u001b[49m\u001b[43msdate\u001b[49m\u001b[43m,\u001b[49m\u001b[43m \u001b[49m\u001b[43medate\u001b[49m\u001b[43m)\u001b[49m\n\u001b[1;32m      8\u001b[0m cov \u001b[38;5;241m=\u001b[39m get_cov_between_dates(s_df, sdate, edate)\n\u001b[1;32m      9\u001b[0m s_df \u001b[38;5;241m=\u001b[39m s_df\u001b[38;5;241m.\u001b[39mset_index([\u001b[38;5;124m\"\u001b[39m\u001b[38;5;124mDate\u001b[39m\u001b[38;5;124m\"\u001b[39m])\n",
      "Cell \u001b[0;32mIn[62], line 13\u001b[0m, in \u001b[0;36mget_valid_dates\u001b[0;34m(df, sdate, edate)\u001b[0m\n\u001b[1;32m     10\u001b[0m     date_ending \u001b[38;5;241m=\u001b[39m \u001b[38;5;124m\"\u001b[39m\u001b[38;5;124m-\u001b[39m\u001b[38;5;124m\"\u001b[39m\u001b[38;5;241m.\u001b[39mjoin((\u001b[38;5;124m\"\u001b[39m\u001b[38;5;124m0\u001b[39m\u001b[38;5;124m\"\u001b[39m \u001b[38;5;28;01mif\u001b[39;00m \u001b[38;5;28mlen\u001b[39m(x) \u001b[38;5;241m<\u001b[39m \u001b[38;5;241m2\u001b[39m \u001b[38;5;28;01melse\u001b[39;00m \u001b[38;5;124m\"\u001b[39m\u001b[38;5;124m\"\u001b[39m) \u001b[38;5;241m+\u001b[39m x \u001b[38;5;28;01mfor\u001b[39;00m x \u001b[38;5;129;01min\u001b[39;00m last_date\u001b[38;5;241m.\u001b[39msplit(\u001b[38;5;124m\"\u001b[39m\u001b[38;5;124m-\u001b[39m\u001b[38;5;124m\"\u001b[39m))\n\u001b[1;32m     12\u001b[0m \u001b[38;5;28;01mexcept\u001b[39;00m \u001b[38;5;167;01mException\u001b[39;00m \u001b[38;5;28;01mas\u001b[39;00m e:\n\u001b[0;32m---> 13\u001b[0m     \u001b[38;5;28mprint\u001b[39m(\u001b[38;5;124;43m\"\u001b[39;49m\u001b[38;5;124;43mDate Corrupted\u001b[39;49m\u001b[38;5;124;43m\"\u001b[39;49m\u001b[43m \u001b[49m\u001b[38;5;241;43m+\u001b[39;49m\u001b[43m \u001b[49m\u001b[43me\u001b[49m)\n\u001b[1;32m     14\u001b[0m \u001b[38;5;28;01melse\u001b[39;00m:\n\u001b[1;32m     15\u001b[0m     \u001b[38;5;28;01mreturn\u001b[39;00m date_leading, date_ending\n",
      "\u001b[0;31mTypeError\u001b[0m: can only concatenate str (not \"AttributeError\") to str"
     ]
    }
   ],
   "source": [
    "market_df = get_cov_ror(tickers, S_DATE_STR, E_DATE_STR)"
   ]
  },
  {
   "cell_type": "code",
   "execution_count": null,
   "id": "16b8b6ea",
   "metadata": {},
   "outputs": [],
   "source": []
  },
  {
   "cell_type": "code",
   "execution_count": null,
   "id": "fa7c3902",
   "metadata": {},
   "outputs": [],
   "source": []
  }
 ],
 "metadata": {
  "kernelspec": {
   "display_name": "Python 3 (ipykernel)",
   "language": "python",
   "name": "python3"
  },
  "language_info": {
   "codemirror_mode": {
    "name": "ipython",
    "version": 3
   },
   "file_extension": ".py",
   "mimetype": "text/x-python",
   "name": "python",
   "nbconvert_exporter": "python",
   "pygments_lexer": "ipython3",
   "version": "3.12.3"
  }
 },
 "nbformat": 4,
 "nbformat_minor": 5
}
