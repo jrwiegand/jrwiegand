{
 "cells": [
  {
   "cell_type": "code",
   "execution_count": 2,
   "id": "5ac4013c-c180-44e2-bf19-0c885865cfb2",
   "metadata": {},
   "outputs": [],
   "source": [
    "# Provides ways to work with large multidimensional arrays\n",
    "import numpy as np\n",
    "# Allows for further data manipulation and analysis\n",
    "import pandas as pd\n",
    "from pandas_datareader import data as web # Reads stock data\n",
    "import yfinance as yf\n",
    "import matplotlib.pyplot as plt # Plotting\n",
    "import matplotlib.dates as mdates # Styling dates\n",
    "%matplotlib inline\n",
    "\n",
    "import datetime as dt # For defining dates\n",
    "import mplfinance as mpf # Matplotlib finance\n",
    "\n",
    "import time\n",
    "\n",
    "# Used to get data from a directory\n",
    "import os\n",
    "from os import listdir\n",
    "from os.path import isfile, join"
   ]
  },
  {
   "cell_type": "markdown",
   "id": "4be96b6b",
   "metadata": {},
   "source": [
    "# Default Values"
   ]
  },
  {
   "cell_type": "code",
   "execution_count": 3,
   "id": "93a3fa76",
   "metadata": {},
   "outputs": [],
   "source": [
    "PATH = \"/Users/jwiegand/Dev/jrwiegand/data/\"\n",
    "\n",
    "# Start date defaults\n",
    "S_YEAR = 2021\n",
    "S_MONTH = 6\n",
    "S_DAY = 1\n",
    "S_DATE_STR = f\"{S_YEAR}-{S_MONTH}-{S_DAY}\"\n",
    "S_DATE_DATETIME = dt.datetime(S_YEAR, S_MONTH, S_DAY)\n",
    "\n",
    "# Start date defaults\n",
    "E_YEAR = 2024\n",
    "E_MONTH = 6\n",
    "E_DAY = 1\n",
    "E_DATE_STR = f\"{E_YEAR}-{E_MONTH}-{E_DAY}\"\n",
    "E_DATE_DATETIME = dt.datetime(E_YEAR, E_MONTH, E_DAY)\n",
    "\n",
    "\n",
    "# Manually Download the Screener CSV from Nasdaq\n",
    "# https://www.nasdaq.com/market-activity/stocks/screener\n",
    "CSV_DATA_FILE = \"nasdaq_screener_1717356628553.csv\""
   ]
  }
 ],
 "metadata": {
  "kernelspec": {
   "display_name": "Python 3 (ipykernel)",
   "language": "python",
   "name": "python3"
  },
  "language_info": {
   "codemirror_mode": {
    "name": "ipython",
    "version": 3
   },
   "file_extension": ".py",
   "mimetype": "text/x-python",
   "name": "python",
   "nbconvert_exporter": "python",
   "pygments_lexer": "ipython3",
   "version": "3.12.3"
  }
 },
 "nbformat": 4,
 "nbformat_minor": 5
}
