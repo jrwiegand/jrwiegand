{
 "cells": [
  {
   "cell_type": "code",
   "execution_count": 4,
   "metadata": {},
   "outputs": [],
   "source": [
    "# Allows for further data manipulation and analysis\n",
    "import pandas as pd\n",
    "from pandas_datareader import data as web # Reads stock data\n",
    "import yfinance as yf\n",
    "%matplotlib inline\n",
    "\n",
    "# For defining dates\n",
    "import datetime as dt\n",
    "\n",
    "# Read from sql\n",
    "import sqlite3"
   ]
  },
  {
   "cell_type": "markdown",
   "metadata": {},
   "source": [
    "# Default Values"
   ]
  },
  {
   "cell_type": "code",
   "execution_count": 5,
   "metadata": {},
   "outputs": [],
   "source": [
    "# Define path to files\n",
    "PATH = \"/Users/jwiegand/Dev/jrwiegand/data/files/\"\n",
    "\n",
    "# Start date defaults\n",
    "S_YEAR = 2021\n",
    "S_MONTH = 6\n",
    "S_DAY = 1\n",
    "S_DATE_STR = f\"{S_YEAR}-{S_MONTH}-{S_DAY}\"\n",
    "S_DATE_DATETIME = dt.datetime(S_YEAR, S_MONTH, S_DAY)\n",
    "\n",
    "# Start date defaults\n",
    "E_YEAR = 2024\n",
    "E_MONTH = 6\n",
    "E_DAY = 1\n",
    "E_DATE_STR = f\"{E_YEAR}-{E_MONTH}-{E_DAY}\"\n",
    "E_DATE_DATETIME = dt.datetime(E_YEAR, E_MONTH, E_DAY)\n",
    "\n",
    "\n",
    "# Manually Download the Screener CSV from Nasdaq\n",
    "# https://www.nasdaq.com/market-activity/stocks/screener\n",
    "CSV_DATA_FILE_NAME = \"nasdaq_screener_1717356628553.csv\"\n",
    "\n",
    "# Stocks that were not downloaded\n",
    "stocks_not_downloaded = []"
   ]
  },
  {
   "cell_type": "markdown",
   "metadata": {},
   "source": [
    "# Import Data from CSV to SQL"
   ]
  },
  {
   "cell_type": "code",
   "execution_count": 6,
   "metadata": {},
   "outputs": [],
   "source": [
    "def import_csv_to_sqlite(csv_file, db_file, table_name):\n",
    "    # Read the CSV file into a pandas DataFrame\n",
    "    df = pd.read_csv(csv_file)\n",
    "\n",
    "    # Connect to the SQLite database (creates it if it doesn't exist)\n",
    "    conn = sqlite3.connect(db_file)\n",
    "\n",
    "    df.to_sql(\"stocks\", conn, if_exists=\"replace\", index=True)\n",
    "\n",
    "    conn.close()\n",
    "    print(f\"Data from {csv_file} successfully imported into {db_file} in table {table_name}\")"
   ]
  },
  {
   "cell_type": "markdown",
   "metadata": {},
   "source": [
    "# Returns a Named Column Data from a CSV"
   ]
  },
  {
   "cell_type": "code",
   "execution_count": 7,
   "metadata": {},
   "outputs": [],
   "source": [
    "def get_column_from_csv(file, col_name):\n",
    "    # Try to get the file and if it doesn't exist issue a warning\n",
    "    try:\n",
    "        df = pd.read_csv(file)\n",
    "        df[col_name] = df[col_name].astype(str)\n",
    "        df[col_name] = df[col_name].apply(str)\n",
    "    except FileNotFoundError:\n",
    "        print(\"File Doesn't Exist\")\n",
    "    else:\n",
    "        return df[col_name].astype(\"string\")"
   ]
  },
  {
   "cell_type": "markdown",
   "metadata": {},
   "source": [
    "# Function that Saves Stock Data to CSV"
   ]
  },
  {
   "cell_type": "code",
   "execution_count": 8,
   "metadata": {},
   "outputs": [],
   "source": [
    "# Function that gets a dataframe by providing a ticker and starting date\n",
    "def save_to_csv_from_yahoo(folder, stock_symbol, start, end):\n",
    "    try:\n",
    "        print(\"Get Data for: \", stock_symbol)\n",
    "\n",
    "        yf.pdr_override()\n",
    "\n",
    "        # Reads data into a dataframe\n",
    "        df = web.DataReader(stock_symbol, start, end)[\"Adj Close\"]\n",
    "\n",
    "        # Save data to a CSV file\n",
    "        df.to_csv(folder + stock_symbol + \".csv\")\n",
    "    except Exception as ex:\n",
    "        print(ex)\n",
    "        stocks_not_downloaded.append(stock_symbol)\n",
    "        print(\"Could Not Get Data for :\", stock_symbol)"
   ]
  },
  {
   "cell_type": "markdown",
   "metadata": {},
   "source": [
    "# Test Receiving Stock Tickers"
   ]
  },
  {
   "cell_type": "code",
   "execution_count": 11,
   "metadata": {},
   "outputs": [
    {
     "name": "stdout",
     "output_type": "stream",
     "text": [
      "Data from /Users/jwiegand/Dev/jrwiegand/data/files/nasdaq_screener_1717356628553.csv successfully imported into /Users/jwiegand/Dev/jrwiegand/data/files/stocks.db in table stocks\n"
     ]
    }
   ],
   "source": [
    "import_csv_to_sqlite(PATH + CSV_DATA_FILE_NAME, PATH + 'stocks.db', 'stocks')"
   ]
  },
  {
   "cell_type": "markdown",
   "metadata": {},
   "source": [
    "# Get 5 Years of Data for all the Stocks"
   ]
  },
  {
   "cell_type": "code",
   "execution_count": null,
   "metadata": {},
   "outputs": [],
   "source": [
    "for ticker in tickers:\n",
    "  symbol = ticker.replace(\"/\", \"-\")\n",
    "  save_to_csv_from_yahoo(PATH + \"stocks/\", symbol, S_DATE_DATETIME, E_DATE_DATETIME)\n",
    "print(\"Finished\")\n",
    "print(\"Stocks Not Downloaded: \", stocks_not_downloaded)"
   ]
  }
 ],
 "metadata": {
  "kernelspec": {
   "display_name": "Python 3 (ipykernel)",
   "language": "python",
   "name": "python3"
  },
  "language_info": {
   "codemirror_mode": {
    "name": "ipython",
    "version": 3
   },
   "file_extension": ".py",
   "mimetype": "text/x-python",
   "name": "python",
   "nbconvert_exporter": "python",
   "pygments_lexer": "ipython3",
   "version": "3.12.3"
  }
 },
 "nbformat": 4,
 "nbformat_minor": 4
}
