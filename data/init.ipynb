{
 "cells": [
  {
   "cell_type": "markdown",
   "id": "75407f79-f0e2-494e-8032-386e68e50299",
   "metadata": {},
   "source": [
    "# Imports"
   ]
  },
  {
   "cell_type": "code",
   "execution_count": 1,
   "id": "42e4a934-b8c4-4322-9f4c-28448d29988b",
   "metadata": {},
   "outputs": [],
   "source": [
    "import numpy as np\n",
    "import pandas_datareader.data as web\n",
    "import yfinance as yf\n",
    "import pandas as pd\n",
    "import datetime as dt\n",
    "import matplotlib.pyplot as plt\n",
    "import matplotlib.dates as mdates\n",
    "%matplotlib inline\n",
    "import mplfinance as mpf"
   ]
  },
  {
   "cell_type": "markdown",
   "id": "34dd9e13-67e2-469c-8cae-035ec892ed9f",
   "metadata": {},
   "source": [
    "# Function that Saves Stock Data to CSV"
   ]
  },
  {
   "cell_type": "code",
   "execution_count": 2,
   "id": "22d3b912-279b-49c4-8e72-46bdf1618f38",
   "metadata": {},
   "outputs": [],
   "source": [
    "def save_to_csv_from_yahoo(ticker, syear, smonth, sday, eyear, emonth, eday):\n",
    "    \n",
    "    start = dt.datetime(syear, smonth, sday)\n",
    "    end = dt.datetime(eyear, emonth, eday)\n",
    "\n",
    "    yf.pdr_override()\n",
    "\n",
    "    df = web.DataReader(ticker, start, end)\n",
    "\n",
    "    df.to_csv(\"./files/\" + ticker + \".csv\")\n",
    "    \n",
    "    return df"
   ]
  },
  {
   "cell_type": "markdown",
   "id": "35670b2a-6bfb-471d-a2d0-09bb36f66c6e",
   "metadata": {},
   "source": [
    "# Function that Returns a Dataframe from a CSV"
   ]
  },
  {
   "cell_type": "code",
   "execution_count": 3,
   "id": "9ead3736-d65e-4d42-84c8-46a6192ad7e5",
   "metadata": {},
   "outputs": [],
   "source": [
    "def get_df_from_csv(ticker):\n",
    "    try:\n",
    "        df = pd.read_csv(\"./files/\" + ticker + \".csv\")\n",
    "    except FileNotFoundError:\n",
    "        print(\"File does not exist!\")\n",
    "    else:\n",
    "        return df"
   ]
  },
  {
   "cell_type": "markdown",
   "id": "7f1ffbb6-061a-4e49-af9e-70ef66147799",
   "metadata": {},
   "source": [
    "# Add Daily Return to Dataframe"
   ]
  },
  {
   "cell_type": "code",
   "execution_count": 4,
   "id": "cc942874-6237-416c-a1e1-a570f876fbf9",
   "metadata": {},
   "outputs": [],
   "source": [
    "# We calculate a percentage rate of return for each day to compare investments.\n",
    "# Simple Rate of Return = (End Price - Beginning Price) / Beginning Price Or (EP / BP) - 1\n",
    "def add_daily_return_to_df(df, ticker):\n",
    "    df['daily_return'] = (df['Adj Close'] / df['Adj Close'].shift(1)) - 1\n",
    "    df.to_csv(\"./files/\" + ticker + \".csv\")\n",
    "    return df"
   ]
  },
  {
   "cell_type": "markdown",
   "id": "422250b8-84ae-4813-9a3f-6e11908d416b",
   "metadata": {},
   "source": [
    "# Returns Total Return over Time"
   ]
  },
  {
   "cell_type": "code",
   "execution_count": 7,
   "id": "18f1ad01-409e-46f8-827b-c3d7babf0314",
   "metadata": {},
   "outputs": [],
   "source": [
    "def get_return_defined_time(df, syear, smonth, sday, eyear, emonth, eday):\n",
    "    # Create string representations for the dates\n",
    "    start = f\"{syear}-{smonth}-{sday}\"\n",
    "    end = f\"{eyear}-{emonth}-{eday}\"\n",
    "    df['Date'] = pd.to_datetime(df['Date'])\n",
    "    \n",
    "    # Use a mask to grab data between defined dates\n",
    "    mask = (df['Date'] >= start) & (df['Date'] <= end)\n",
    "    \n",
    "    # Get the mean of the column named daily return\n",
    "    daily_ret = df.loc[mask]['daily_return'].mean()\n",
    "    \n",
    "    # Get the number of days between 2 dates\n",
    "    df2 = df.loc[mask]\n",
    "    days = df2.shape[0]\n",
    "\n",
    "    # Return the total return between 2 dates\n",
    "    return (days * daily_ret)"
   ]
  },
  {
   "cell_type": "markdown",
   "id": "9fe75bb6-fa38-4cab-a15d-bf0865b2eaed",
   "metadata": {},
   "source": [
    "# Matplotlib Finance"
   ]
  },
  {
   "cell_type": "code",
   "execution_count": null,
   "id": "d01ce110-024f-409a-a181-3b6d2eae8dde",
   "metadata": {},
   "outputs": [],
   "source": []
  },
  {
   "cell_type": "markdown",
   "id": "eec08236-260a-4dee-9375-9aa11c2925a3",
   "metadata": {},
   "source": [
    "# Simpole Price Plot"
   ]
  },
  {
   "cell_type": "code",
   "execution_count": null,
   "id": "31eb4ed6-445d-466a-a32d-0a5c915ca318",
   "metadata": {},
   "outputs": [],
   "source": []
  },
  {
   "cell_type": "markdown",
   "id": "7b4819c2-2aa0-4f68-b87e-00afd648c470",
   "metadata": {},
   "source": [
    "# Test Functions"
   ]
  },
  {
   "cell_type": "code",
   "execution_count": 8,
   "id": "66bf6644-f83a-4bbb-85f2-2866c7c1c580",
   "metadata": {},
   "outputs": [
    {
     "name": "stderr",
     "output_type": "stream",
     "text": [
      "[*********************100%%**********************]  1 of 1 completed"
     ]
    },
    {
     "name": "stdout",
     "output_type": "stream",
     "text": [
      "Total Return: 0.6166402116980415\n"
     ]
    },
    {
     "name": "stderr",
     "output_type": "stream",
     "text": [
      "\n"
     ]
    }
   ],
   "source": [
    "save_to_csv_from_yahoo(\"AMZN\", 2020, 1, 1, 2021, 1, 1)\n",
    "\n",
    "AMZN = get_df_from_csv(\"AMZN\")\n",
    "\n",
    "add_daily_return_to_df(AMZN, \"AMZN\")\n",
    "\n",
    "AMZN\n",
    "\n",
    "total_ret = get_return_defined_time(AMZN, 2020, 1, 1, 2021, 1, 1)\n",
    "print(\"Total Return:\", total_ret)"
   ]
  },
  {
   "cell_type": "code",
   "execution_count": null,
   "id": "9cb0eef0-9875-43fb-a080-4ce67972eaa4",
   "metadata": {},
   "outputs": [],
   "source": []
  }
 ],
 "metadata": {
  "kernelspec": {
   "display_name": "Python 3 (ipykernel)",
   "language": "python",
   "name": "python3"
  },
  "language_info": {
   "codemirror_mode": {
    "name": "ipython",
    "version": 3
   },
   "file_extension": ".py",
   "mimetype": "text/x-python",
   "name": "python",
   "nbconvert_exporter": "python",
   "pygments_lexer": "ipython3",
   "version": "3.11.7"
  }
 },
 "nbformat": 4,
 "nbformat_minor": 5
}
