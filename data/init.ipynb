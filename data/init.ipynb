{
 "cells": [
  {
   "cell_type": "code",
   "execution_count": 3,
   "id": "a12f52be-9b6b-4991-84ab-e725b19bff3c",
   "metadata": {},
   "outputs": [
    {
     "data": {
      "text/plain": [
       "'Hello Data Science'"
      ]
     },
     "execution_count": 3,
     "metadata": {},
     "output_type": "execute_result"
    }
   ],
   "source": [
    "message = \"Hello Data Science\"\n",
    "message"
   ]
  },
  {
   "cell_type": "markdown",
   "id": "629d324c-7d56-4a14-93d9-dbc686948890",
   "metadata": {},
   "source": [
    "Important message"
   ]
  },
  {
   "cell_type": "code",
   "execution_count": null,
   "id": "b1c63463-d58d-47d3-a591-50d8ae2cd4c9",
   "metadata": {},
   "outputs": [],
   "source": []
  }
 ],
 "metadata": {
  "kernelspec": {
   "display_name": "Python 3 (ipykernel)",
   "language": "python",
   "name": "python3"
  },
  "language_info": {
   "codemirror_mode": {
    "name": "ipython",
    "version": 3
   },
   "file_extension": ".py",
   "mimetype": "text/x-python",
   "name": "python",
   "nbconvert_exporter": "python",
   "pygments_lexer": "ipython3",
   "version": "3.11.5"
  }
 },
 "nbformat": 4,
 "nbformat_minor": 5
}
