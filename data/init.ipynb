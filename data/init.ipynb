{
 "cells": [
  {
   "cell_type": "markdown",
   "id": "75407f79-f0e2-494e-8032-386e68e50299",
   "metadata": {},
   "source": [
    "# Imports"
   ]
  },
  {
   "cell_type": "code",
   "execution_count": 3,
   "id": "42e4a934-b8c4-4322-9f4c-28448d29988b",
   "metadata": {},
   "outputs": [],
   "source": [
    "import numpy as np\n",
    "import pandas as pd\n",
    "from pandas_datareader import data as web\n",
    "import matplotlib.pyplot as plt\n",
    "import matplotlib.dates as mdates\n",
    "%matplotlib inline\n",
    "import datetime as dt\n",
    "import mplfinance as mpf"
   ]
  },
  {
   "cell_type": "markdown",
   "id": "34dd9e13-67e2-469c-8cae-035ec892ed9f",
   "metadata": {},
   "source": [
    "# Function that Saves Stock Data to CSV"
   ]
  },
  {
   "cell_type": "code",
   "execution_count": null,
   "id": "22d3b912-279b-49c4-8e72-46bdf1618f38",
   "metadata": {},
   "outputs": [],
   "source": []
  },
  {
   "cell_type": "markdown",
   "id": "35670b2a-6bfb-471d-a2d0-09bb36f66c6e",
   "metadata": {},
   "source": [
    "# Function that Returns a Dataframe from a CSV"
   ]
  },
  {
   "cell_type": "code",
   "execution_count": null,
   "id": "9ead3736-d65e-4d42-84c8-46a6192ad7e5",
   "metadata": {},
   "outputs": [],
   "source": []
  },
  {
   "cell_type": "markdown",
   "id": "7f1ffbb6-061a-4e49-af9e-70ef66147799",
   "metadata": {},
   "source": [
    "# Add Daily Return to Dataframe"
   ]
  },
  {
   "cell_type": "code",
   "execution_count": null,
   "id": "cc942874-6237-416c-a1e1-a570f876fbf9",
   "metadata": {},
   "outputs": [],
   "source": []
  },
  {
   "cell_type": "markdown",
   "id": "422250b8-84ae-4813-9a3f-6e11908d416b",
   "metadata": {},
   "source": [
    "# Returns Total Return over Time"
   ]
  },
  {
   "cell_type": "code",
   "execution_count": null,
   "id": "18f1ad01-409e-46f8-827b-c3d7babf0314",
   "metadata": {},
   "outputs": [],
   "source": []
  },
  {
   "cell_type": "markdown",
   "id": "9fe75bb6-fa38-4cab-a15d-bf0865b2eaed",
   "metadata": {},
   "source": [
    "# Matplotlib Finance"
   ]
  },
  {
   "cell_type": "code",
   "execution_count": null,
   "id": "d01ce110-024f-409a-a181-3b6d2eae8dde",
   "metadata": {},
   "outputs": [],
   "source": []
  },
  {
   "cell_type": "markdown",
   "id": "eec08236-260a-4dee-9375-9aa11c2925a3",
   "metadata": {},
   "source": [
    "# Simpole Price Plot"
   ]
  },
  {
   "cell_type": "code",
   "execution_count": null,
   "id": "31eb4ed6-445d-466a-a32d-0a5c915ca318",
   "metadata": {},
   "outputs": [],
   "source": []
  }
 ],
 "metadata": {
  "kernelspec": {
   "display_name": "Python 3 (ipykernel)",
   "language": "python",
   "name": "python3"
  },
  "language_info": {
   "codemirror_mode": {
    "name": "ipython",
    "version": 3
   },
   "file_extension": ".py",
   "mimetype": "text/x-python",
   "name": "python",
   "nbconvert_exporter": "python",
   "pygments_lexer": "ipython3",
   "version": "3.11.5"
  }
 },
 "nbformat": 4,
 "nbformat_minor": 5
}
